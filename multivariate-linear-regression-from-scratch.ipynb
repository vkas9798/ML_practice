{
 "cells": [
  {
   "cell_type": "markdown",
   "id": "7311480a",
   "metadata": {
    "papermill": {
     "duration": 0.007858,
     "end_time": "2023-04-06T18:52:26.917807",
     "exception": false,
     "start_time": "2023-04-06T18:52:26.909949",
     "status": "completed"
    },
    "tags": []
   },
   "source": [
    "# Introduction  <a id='introduction'></a>\n",
    "\n",
    "This notebook contains Python code for a multivariate linear regression task. Multivariate linear regression means linear regression with more than one variable. In addition to Python, we will also use Pandas, Numpy, and Matplotlib libraries. \n",
    "\n",
    "In my [Univariate Linear Regression from Scratch](https://www.kaggle.com/code/erkanhatipoglu/univariate-linear-regression-from-scratch) notebook, we have already seen basic Machine Learning concepts such as the hypothesis, cost function, and gradient descent. We will not explain those concepts in this notebook. Anyone interested may refer to my Kaggle notebook [Univariate Linear Regression from Scratch](https://www.kaggle.com/code/erkanhatipoglu/univariate-linear-regression-from-scratch) or my Medium blog post [Univariate Linear Regression from Scratch](https://medium.com/towards-artificial-intelligence/univariate-linear-regression-from-scratch-68065fe8eb09) published in [Towards AI](https://pub.towardsai.net/) for a more detailed explanation. Refer to my [Multivariate Linear Regression From Scratch](https://medium.com/towards-artificial-intelligence/multivariate-linear-regression-from-scratch-c6702e26cce0https://medium.com/towards-artificial-intelligence/multivariate-linear-regression-from-scratch-c6702e26cce0) blog post on Medium for more detailed discussions on concepts of this notebook. We will use a gradient descent solution and not discuss the 'normal equation.' The  'normal equation' is explained in the [Linear Regression Using the Normal Equation](https://www.kaggle.com/code/erkanhatipoglu/linear-regression-using-the-normal-equation) notebook.\n",
    "\n",
    "This notebook is greatly inspired by the famous Machine Learning course by [Andrew Ng](https://www.andrewng.org/). All the mistakes, if any, are made by me.\n",
    "\n",
    "Finally, thanks to [@Mohan S Acharya](https://www.kaggle.com/mohansacharya) for this dataset.\n",
    "\n",
    "\n",
    "# Table of Contents\n",
    "* [Introduction](#introduction)\n",
    "* [Vectorization](#vector)\n",
    "* [Helper functions](#functions)\n",
    "* [The Hypothesis](#hypothesis)\n",
    "* [The Cost Function](#cost)\n",
    "* [Gradient Descent](#gradient)\n",
    "* [Feature Scaling](#scaling)\n",
    "* [Loading Data](#getdata)\n",
    "* [Model Training](#training)\n",
    "* [Model Validation](#validation)\n",
    "* [Conclusion](#conclusion)\n",
    "* [References](#references)"
   ]
  },
  {
   "cell_type": "code",
   "execution_count": 1,
   "id": "9a06b892",
   "metadata": {
    "_cell_guid": "b1076dfc-b9ad-4769-8c92-a6c4dae69d19",
    "_uuid": "8f2839f25d086af736a60e9eeb907d3b93b6e0e5",
    "execution": {
     "iopub.execute_input": "2023-04-06T18:52:26.934475Z",
     "iopub.status.busy": "2023-04-06T18:52:26.933757Z",
     "iopub.status.idle": "2023-04-06T18:52:28.319164Z",
     "shell.execute_reply": "2023-04-06T18:52:28.317945Z"
    },
    "papermill": {
     "duration": 1.396951,
     "end_time": "2023-04-06T18:52:28.322036",
     "exception": false,
     "start_time": "2023-04-06T18:52:26.925085",
     "status": "completed"
    },
    "tags": []
   },
   "outputs": [
    {
     "name": "stdout",
     "output_type": "stream",
     "text": [
      "/kaggle/input/graduate-admissions/Admission_Predict.csv\n",
      "/kaggle/input/graduate-admissions/Admission_Predict_Ver1.1.csv\n"
     ]
    }
   ],
   "source": [
    "# This Python 3 environment comes with many helpful analytics libraries installed\n",
    "# It is defined by the kaggle/python Docker image: https://github.com/kaggle/docker-python\n",
    "# For example, here's several helpful packages to load\n",
    "\n",
    "import numpy as np # linear algebra\n",
    "import pandas as pd # data processing, CSV file I/O (e.g. pd.read_csv)\n",
    "\n",
    "# Input data files are available in the read-only \"../input/\" directory\n",
    "# For example, running this (by clicking run or pressing Shift+Enter) will list all files under the input directory\n",
    "\n",
    "import os\n",
    "for dirname, _, filenames in os.walk('/kaggle/input'):\n",
    "    for filename in filenames:\n",
    "        print(os.path.join(dirname, filename))\n",
    "\n",
    "# You can write up to 20GB to the current directory (/kaggle/working/) that gets preserved as output when you create a version using \"Save & Run All\" \n",
    "# You can also write temporary files to /kaggle/temp/, but they won't be saved outside of the current session\n",
    "\n",
    "from sklearn.model_selection import train_test_split # Split data into train and validation sets\n",
    "import matplotlib.pyplot as plt # Data visualization\n",
    "from time import process_time # Calculate elapsed CPU time"
   ]
  },
  {
   "cell_type": "markdown",
   "id": "4660d8b9",
   "metadata": {
    "papermill": {
     "duration": 0.006617,
     "end_time": "2023-04-06T18:52:28.335761",
     "exception": false,
     "start_time": "2023-04-06T18:52:28.329144",
     "status": "completed"
    },
    "tags": []
   },
   "source": [
    "# Vectorization   <a id='vector'></a>   "
   ]
  },
  {
   "cell_type": "markdown",
   "id": "fe7a349b",
   "metadata": {
    "papermill": {
     "duration": 0.006629,
     "end_time": "2023-04-06T18:52:28.349255",
     "exception": false,
     "start_time": "2023-04-06T18:52:28.342626",
     "status": "completed"
    },
    "tags": []
   },
   "source": [
    "<div class=\"alert alert-block alert-info\">\n",
    "<b>Tip:</b> Instead of using loops in our Machine Learning functions, we can take advantage of matrices and vectors found in linear algebra libraries that are either built-in to a programming language or easily accessible. This concept is called vectorization.\n",
    "\n",
    "Those linear algebra libraries are generally well-written and highly optimized. So, by using them, our code will be more efficient and more straightforward. In this notebook, we will use the [NumPy](https://numpy.org/) and [Pandas](https://pandas.pydata.org/) libraries in Python for this purpose.\n",
    "</div>\n",
    "\n"
   ]
  },
  {
   "cell_type": "markdown",
   "id": "295f92d5",
   "metadata": {
    "papermill": {
     "duration": 0.006732,
     "end_time": "2023-04-06T18:52:28.362906",
     "exception": false,
     "start_time": "2023-04-06T18:52:28.356174",
     "status": "completed"
    },
    "tags": []
   },
   "source": [
    "# Helper Functions   <a id='functions'></a>   "
   ]
  },
  {
   "cell_type": "markdown",
   "id": "d4ab1768",
   "metadata": {
    "papermill": {
     "duration": 0.008492,
     "end_time": "2023-04-06T18:52:28.379089",
     "exception": false,
     "start_time": "2023-04-06T18:52:28.370597",
     "status": "completed"
    },
    "tags": []
   },
   "source": [
    "<div class=\"alert alert-block alert-info\">\n",
    "<b>Tip:</b> We will use some helper functions throughout the notebook. Collecting them in one place is a good idea, making the code more organized. First, we will define and explain those functions and then use them in our code.\n",
    "</div>"
   ]
  },
  {
   "cell_type": "markdown",
   "id": "1c441e7a",
   "metadata": {
    "papermill": {
     "duration": 0.008006,
     "end_time": "2023-04-06T18:52:28.394256",
     "exception": false,
     "start_time": "2023-04-06T18:52:28.386250",
     "status": "completed"
    },
    "tags": []
   },
   "source": [
    "# The  Hypothesis   <a id='hypothesis'></a>   "
   ]
  },
  {
   "cell_type": "markdown",
   "id": "24707589",
   "metadata": {
    "papermill": {
     "duration": 0.00767,
     "end_time": "2023-04-06T18:52:28.409221",
     "exception": false,
     "start_time": "2023-04-06T18:52:28.401551",
     "status": "completed"
    },
    "tags": []
   },
   "source": [
    "The hypothesis for a linear regression task with multiple variables is of the form: \n",
    "\n",
    "\n",
    "$\\hat{y} = h_\\theta(x) = \\theta_0 + \\theta_1 x_1 + \\theta_2 x_2 + ... + \\theta_n x_n$\n",
    "\n",
    "\n",
    "Where $\\hat{y} = h_\\theta(x)$ is the predicted target. The hypothesis will calculate the predicted values (or predicted targets) for a given set of inputs and $\\theta$ values ($\\theta_i$, where $i = 0,1,2,...,n$). \n",
    "\n",
    "\n",
    "Using vector notation, this equation can be rewritten as: \n",
    "\n",
    "\n",
    "$ h_\\theta(x) = \\begin{bmatrix}\\theta_{0} & \\theta_{1} & \\cdots & \\theta_{n}\n",
    "\\end{bmatrix} \\begin{bmatrix}x_{0}\\\\\n",
    "x_{1}\\\\\n",
    "\\vdots\\\\\n",
    "x_{n}\n",
    "\\end{bmatrix}= \\boldsymbol{\\theta}^T\\boldsymbol{x}$\n",
    "\n",
    "assuming $ \\boldsymbol{\\theta}$ and $\\boldsymbol{x}$ are column vectors and $\\boldsymbol{x_0 = 1}$.\n",
    "\n",
    "Each row in our dataset represents a sample such that:\n",
    "\n",
    "$ \\boldsymbol{X} = \\begin{bmatrix}x_{0}^{(1)} & x_{1}^{(1)} & \\cdots  & x_{n}^{(1)} \\\\\n",
    "x_{0}^{(2)} & x_{1}^{(2)} & \\cdots  & x_{n}^{(2)}\\\\\n",
    "\\vdots & \\vdots & \\vdots  & \\vdots\\\\\n",
    "x_{0}^{(m)} & x_{1}^{(m)} & \\cdots  & x_{n}^{(m)}\n",
    "\\end{bmatrix} and;$ \n",
    "\n",
    "$ \\boldsymbol{\\theta} = \\begin{bmatrix}\\theta_{0} \\\\\n",
    "\\theta_{1}\\\\\n",
    "\\vdots \\\\\n",
    "\\theta_{n}\n",
    "\\end{bmatrix}$\n",
    "\n",
    "Where $ \\boldsymbol{X} $ is the training or test dataset, $ \\boldsymbol{\\theta} $ is the $ \\theta $ vector, m is the number of samples, and n is the number of features. As a result, we can calculate the hypothesis as a column vector of $ (m x 1) $ as follows: \n",
    "\n",
    "$ h_\\theta(x) = \\boldsymbol{X}\\boldsymbol{\\theta} $"
   ]
  },
  {
   "cell_type": "code",
   "execution_count": 2,
   "id": "85a67617",
   "metadata": {
    "execution": {
     "iopub.execute_input": "2023-04-06T18:52:28.424854Z",
     "iopub.status.busy": "2023-04-06T18:52:28.424478Z",
     "iopub.status.idle": "2023-04-06T18:52:28.430947Z",
     "shell.execute_reply": "2023-04-06T18:52:28.429215Z"
    },
    "papermill": {
     "duration": 0.017387,
     "end_time": "2023-04-06T18:52:28.433705",
     "exception": false,
     "start_time": "2023-04-06T18:52:28.416318",
     "status": "completed"
    },
    "tags": []
   },
   "outputs": [],
   "source": [
    "# The hypothesis\n",
    "def h(x, theta):\n",
    "    \"\"\"\n",
    "     Calculates the predicted values (or predicted targets) for a given set of input and theta vectors.\n",
    "    \n",
    "    :param x: inputs (feature values) - data frame of floats \n",
    "    :param theta: theta vector (weights) - Numpy array of floats\n",
    "    \n",
    "    :return: predicted targets - Numpy array of floats\n",
    "    \n",
    "    \"\"\"\n",
    "    # The hypothesis is a column vector of m x 1\n",
    "    return np.dot(x, theta)"
   ]
  },
  {
   "cell_type": "markdown",
   "id": "9af21c9c",
   "metadata": {
    "papermill": {
     "duration": 0.006856,
     "end_time": "2023-04-06T18:52:28.447999",
     "exception": false,
     "start_time": "2023-04-06T18:52:28.441143",
     "status": "completed"
    },
    "tags": []
   },
   "source": [
    "# The  Cost Function   <a id='cost'></a> "
   ]
  },
  {
   "cell_type": "markdown",
   "id": "1794853f",
   "metadata": {
    "papermill": {
     "duration": 0.006575,
     "end_time": "2023-04-06T18:52:28.461463",
     "exception": false,
     "start_time": "2023-04-06T18:52:28.454888",
     "status": "completed"
    },
    "tags": []
   },
   "source": [
    "We will use the squared error cost function as in the univariate linear regression case. Therefore, the cost function is:\n",
    "\n",
    "$ J(\\theta) = \\frac{1}{2m}\\sum_{i=1}^{m} (h_{\\theta}(x^{(i)})-y^i)^2 $\n",
    "\n",
    "where $m$ is the number of examples, $h_\\theta()$ is the hypothesis function, $ x^i $ is the $i^{th}$ training example, and $y^i$ is the actual output of $i^{th}$ training example. And the vectorized form of the cost function is as follows:\n",
    "\n",
    "$ J(\\theta) = \\frac{1}{2m}( X\\theta - \\vec y)^T(X\\theta - \\vec y) $\n",
    "\n",
    "where $m$ is the number of examples, $X$ is the training or test dataset, $ \\boldsymbol{\\theta} $ is the $ \\theta $ vector, $\\vec y$ is the vector of corresponding $y$ values, and $()^T$ is the transpose of the matrix. "
   ]
  },
  {
   "cell_type": "code",
   "execution_count": 3,
   "id": "83d6535a",
   "metadata": {
    "execution": {
     "iopub.execute_input": "2023-04-06T18:52:28.476898Z",
     "iopub.status.busy": "2023-04-06T18:52:28.476490Z",
     "iopub.status.idle": "2023-04-06T18:52:28.483046Z",
     "shell.execute_reply": "2023-04-06T18:52:28.481989Z"
    },
    "papermill": {
     "duration": 0.017312,
     "end_time": "2023-04-06T18:52:28.485592",
     "exception": false,
     "start_time": "2023-04-06T18:52:28.468280",
     "status": "completed"
    },
    "tags": []
   },
   "outputs": [],
   "source": [
    "# The cost function\n",
    "\n",
    "def J(X,y,theta):\n",
    "    \"\"\"\n",
    "     Calculates the total error using squared error function.\n",
    "    \n",
    "    :param X: inputs (feature values) - data frame of floats\n",
    "    :param y: outputs (actual target values) - Numpy array of floats\n",
    "    :param theta: theta vector (weights) - Numpy array of floats\n",
    "    \n",
    "    :return: total error - float\n",
    "    \n",
    "    \"\"\"\n",
    "    # Calculate number of examples\n",
    "    m = len(X)\n",
    "    \n",
    "    # Calculate the constant\n",
    "    c = 1/(2 * m)\n",
    "       \n",
    "    # Calculate the array of errors\n",
    "    temp_0 = h(X, theta) - y.reshape(-1)\n",
    "\n",
    "    # Calculate the transpose of array of errors\n",
    "    temp_1 = temp_0.transpose()\n",
    "\n",
    "    # Calculate the dot product \n",
    "    temp_2 = np.dot(temp_1, temp_0) \n",
    "\n",
    "    return  c * temp_2"
   ]
  },
  {
   "cell_type": "markdown",
   "id": "b87f06a2",
   "metadata": {
    "papermill": {
     "duration": 0.006793,
     "end_time": "2023-04-06T18:52:28.499760",
     "exception": false,
     "start_time": "2023-04-06T18:52:28.492967",
     "status": "completed"
    },
    "tags": []
   },
   "source": [
    "# Gradient Descent   <a id='gradient'></a> "
   ]
  },
  {
   "cell_type": "markdown",
   "id": "53c218de",
   "metadata": {
    "papermill": {
     "duration": 0.006927,
     "end_time": "2023-04-06T18:52:28.513812",
     "exception": false,
     "start_time": "2023-04-06T18:52:28.506885",
     "status": "completed"
    },
    "tags": []
   },
   "source": [
    "The gradient descent calculation is similar to what we have seen in the [univariate version](https://www.kaggle.com/code/erkanhatipoglu/univariate-linear-regression-from-scratch?kernelSessionId=106646889):\n",
    "\n",
    "$  \\text{repeat  until  convergence:  \\{} $\n",
    "\n",
    "$\\theta_0 := \\theta_0 - \\alpha\\frac{1}{m}\\sum_{i=1}^{m} (h_{\\theta}(x^{(i)})-y^{(i)}).x_0^{(i)}$\n",
    "\n",
    "$\\theta_1 := \\theta_1 - \\alpha\\frac{1}{m}\\sum_{i=1}^{m} (h_{\\theta}(x^{(i)})-y^{(i)}).x_1^{(i)}$\n",
    "\n",
    "$\\theta_2 := \\theta_2 - \\alpha\\frac{1}{m}\\sum_{i=1}^{m} (h_{\\theta}(x^{(i)})-y^{(i)}).x_2^{(i)}$\n",
    "\n",
    "$\\cdots $\n",
    "\n",
    "$\\theta_n := \\theta_n - \\alpha\\frac{1}{m}\\sum_{i=1}^{m} (h_{\\theta}(x^{(i)})-y^{(i)}).x_n^{(i)}$\n",
    "\n",
    "$  \\text{ \\}}$\n",
    "\n",
    "where\n",
    "\n",
    "$n$ is the number of features,\n",
    "\n",
    "$\\theta_j$ (for $j = 0,1,2,\\cdots,n$) is the corresponding weights for each feature, \n",
    "\n",
    "$\\alpha$ is the learning rate, \n",
    "\n",
    "$m$ is the number of examples, \n",
    "\n",
    "$h_{\\theta}(x^{(i)})$ is the result of the hypothesis function for the $i^{th}$ training example, \n",
    "\n",
    "$y^{(i)}$ is the actual value for the $i^{th}$ training example,\n",
    "\n",
    "and $x_k^{(i)}$ (for $k = 0,1,2,\\cdots,n$) is the value of the $k^{th}$ feature for the $i^{th}$ training example.\n"
   ]
  },
  {
   "cell_type": "markdown",
   "id": "cc4f6d73",
   "metadata": {
    "papermill": {
     "duration": 0.006822,
     "end_time": "2023-04-06T18:52:28.527800",
     "exception": false,
     "start_time": "2023-04-06T18:52:28.520978",
     "status": "completed"
    },
    "tags": []
   },
   "source": [
    "\n",
    "Therefore, the vectorized form of the gradient descent is as follows: \n",
    "\n",
    "$ \\boldsymbol{\\theta} := \\boldsymbol{\\theta} - \\frac{\\alpha}{m} \\boldsymbol{X}^T (\\boldsymbol{X}\\boldsymbol{\\theta} - \\vec y) $\n",
    "\n",
    "where $ \\boldsymbol{\\theta} $ is the $ \\theta $ vector, $\\alpha$ is the learning rate, $m$ is the number of examples, $X$ is the training or test dataset, $()^T$ is the transpose of the matrix, and $\\vec y$ is the vector of corresponding $y$ values."
   ]
  },
  {
   "cell_type": "code",
   "execution_count": 4,
   "id": "f7b1d80e",
   "metadata": {
    "execution": {
     "iopub.execute_input": "2023-04-06T18:52:28.543796Z",
     "iopub.status.busy": "2023-04-06T18:52:28.543376Z",
     "iopub.status.idle": "2023-04-06T18:52:28.549875Z",
     "shell.execute_reply": "2023-04-06T18:52:28.548921Z"
    },
    "papermill": {
     "duration": 0.017477,
     "end_time": "2023-04-06T18:52:28.552447",
     "exception": false,
     "start_time": "2023-04-06T18:52:28.534970",
     "status": "completed"
    },
    "tags": []
   },
   "outputs": [],
   "source": [
    "# Gradient descent function\n",
    "def gradient(X, y, theta, alpha):\n",
    "    \"\"\"\n",
    "     Calculates the gradient descent.\n",
    "    \n",
    "    :param X: inputs (feature values) - data frame of floats\n",
    "    :param y: outputs (actual target values) - Numpy array of floats\n",
    "    :param theta: theta vector (weights) - Numpy array of floats\n",
    "    :param alpha: learning rate\n",
    "    \n",
    "    :return: new theta - Numpy array of floats\n",
    "    \n",
    "    \"\"\"\n",
    "    # Calculate number of examples\n",
    "    m = len(X)\n",
    "    \n",
    "    # Calculate the constant\n",
    "    c =  alpha / m\n",
    "        \n",
    "    # calculate the transpose of X\n",
    "    temp_0 = X.transpose()\n",
    "        \n",
    "    # Calculate the array of errors\n",
    "    temp_1 = h(X, theta) - y.reshape(-1) \n",
    "        \n",
    "    # Calculate the dot product \n",
    "    temp_2 = np.dot(temp_0, temp_1)\n",
    "        \n",
    "    return theta - (c * temp_2)"
   ]
  },
  {
   "cell_type": "markdown",
   "id": "64f84e1d",
   "metadata": {
    "papermill": {
     "duration": 0.007012,
     "end_time": "2023-04-06T18:52:28.567042",
     "exception": false,
     "start_time": "2023-04-06T18:52:28.560030",
     "status": "completed"
    },
    "tags": []
   },
   "source": [
    "# Feature Scaling  <a id='scaling'></a>"
   ]
  },
  {
   "cell_type": "markdown",
   "id": "3568ca34",
   "metadata": {
    "papermill": {
     "duration": 0.006437,
     "end_time": "2023-04-06T18:52:28.580293",
     "exception": false,
     "start_time": "2023-04-06T18:52:28.573856",
     "status": "completed"
    },
    "tags": []
   },
   "source": [
    "<div class=\"alert alert-block alert-info\">\n",
    "<b>Tip:</b> Making the feature values approximately the same scale (i.e., a similar range of values) speeds up the gradient descent. Therefore in this notebook, we will scale some features in our dataset.\n",
    "</div>"
   ]
  },
  {
   "cell_type": "markdown",
   "id": "adb4c3fa",
   "metadata": {
    "papermill": {
     "duration": 0.006513,
     "end_time": "2023-04-06T18:52:28.593670",
     "exception": false,
     "start_time": "2023-04-06T18:52:28.587157",
     "status": "completed"
    },
    "tags": []
   },
   "source": [
    "There are various techniques for scaling; we will present three of them:\n",
    "\n",
    "**Standardization:** $\\frac{X-X.mean}{X.std}$\n",
    "\n",
    "**Mean Normalization** $\\frac{X-X.mean}{X.max - X.min}$\n",
    "\n",
    "**Min-Max Scaling:** $\\frac{X-X.min}{X.max - X.min}$"
   ]
  },
  {
   "cell_type": "code",
   "execution_count": 5,
   "id": "e98fff6e",
   "metadata": {
    "execution": {
     "iopub.execute_input": "2023-04-06T18:52:28.609408Z",
     "iopub.status.busy": "2023-04-06T18:52:28.608749Z",
     "iopub.status.idle": "2023-04-06T18:52:28.616446Z",
     "shell.execute_reply": "2023-04-06T18:52:28.614800Z"
    },
    "papermill": {
     "duration": 0.018236,
     "end_time": "2023-04-06T18:52:28.618662",
     "exception": false,
     "start_time": "2023-04-06T18:52:28.600426",
     "status": "completed"
    },
    "tags": []
   },
   "outputs": [],
   "source": [
    "# Normalization and Standardization\n",
    "def normalize(X, columns):\n",
    "    \"\"\"\n",
    "     Applies feature scaling to the dataframe.\n",
    "    \n",
    "    :param X: unnormalized features - data frame of floats\n",
    "    :param columns: columns to be scaled - list of strings\n",
    "    \n",
    "    :return: normalized features - data frame of floats\n",
    "    \n",
    "    \"\"\"\n",
    "    \n",
    "    for column in columns:\n",
    "        \n",
    "        # Use this if you want Z-Score Normalization (or Standardization).\n",
    "        # Note that you must play with the learning rate\n",
    "        # and convergence threshold for better results.        \n",
    "        # X[column] = (X[column] - X[column].mean()) / X[column].std()\n",
    "        \n",
    "        # Use this if you want Mean Normalization.\n",
    "        # Note that you must play with the learning rate\n",
    "        # and convergence threshold for better results.        \n",
    "        # X[column] = (X[column] - X[column].mean()) / (X[column].max() - X[column].min()) or\n",
    "                \n",
    "        # Use this if you want Min-Max Scaling (or Min-Max Normalization).\n",
    "        # Note that you must play with the learning rate\n",
    "        # and convergence threshold for better results.  \n",
    "        # X[column] = (X[column] - X[column].min()) / (X[column].max() - X[column].min())\n",
    "        \n",
    "        # We will use Min-Max Scaling.\n",
    "        X[column] = (X[column] - X[column].min()) / (X[column].max() - X[column].min())\n",
    "        \n",
    "    return X"
   ]
  },
  {
   "cell_type": "markdown",
   "id": "c1d0f528",
   "metadata": {
    "papermill": {
     "duration": 0.006699,
     "end_time": "2023-04-06T18:52:28.632470",
     "exception": false,
     "start_time": "2023-04-06T18:52:28.625771",
     "status": "completed"
    },
    "tags": []
   },
   "source": [
    "# Loading Data   <a id='getdata'></a> "
   ]
  },
  {
   "cell_type": "markdown",
   "id": "7097b085",
   "metadata": {
    "papermill": {
     "duration": 0.007452,
     "end_time": "2023-04-06T18:52:28.647586",
     "exception": false,
     "start_time": "2023-04-06T18:52:28.640134",
     "status": "completed"
    },
    "tags": []
   },
   "source": [
    "First of all, we will load the CSV file in this part. Since there are two different versions of the dataset, we will load the one with more data. We will then create our training DataFrame and target vector. Next, we will normalize some columns of the training DataFrame using min-max scaling. Finally, we will split our data into training and validation DataFrames so that we can validate the results."
   ]
  },
  {
   "cell_type": "code",
   "execution_count": 6,
   "id": "3ded341b",
   "metadata": {
    "execution": {
     "iopub.execute_input": "2023-04-06T18:52:28.664203Z",
     "iopub.status.busy": "2023-04-06T18:52:28.663850Z",
     "iopub.status.idle": "2023-04-06T18:52:28.711874Z",
     "shell.execute_reply": "2023-04-06T18:52:28.710381Z"
    },
    "papermill": {
     "duration": 0.05885,
     "end_time": "2023-04-06T18:52:28.713945",
     "exception": false,
     "start_time": "2023-04-06T18:52:28.655095",
     "status": "completed"
    },
    "tags": []
   },
   "outputs": [
    {
     "data": {
      "text/html": [
       "<div>\n",
       "<style scoped>\n",
       "    .dataframe tbody tr th:only-of-type {\n",
       "        vertical-align: middle;\n",
       "    }\n",
       "\n",
       "    .dataframe tbody tr th {\n",
       "        vertical-align: top;\n",
       "    }\n",
       "\n",
       "    .dataframe thead th {\n",
       "        text-align: right;\n",
       "    }\n",
       "</style>\n",
       "<table border=\"1\" class=\"dataframe\">\n",
       "  <thead>\n",
       "    <tr style=\"text-align: right;\">\n",
       "      <th></th>\n",
       "      <th>GRE Score</th>\n",
       "      <th>TOEFL Score</th>\n",
       "      <th>University Rating</th>\n",
       "      <th>SOP</th>\n",
       "      <th>LOR</th>\n",
       "      <th>CGPA</th>\n",
       "      <th>Research</th>\n",
       "    </tr>\n",
       "  </thead>\n",
       "  <tbody>\n",
       "    <tr>\n",
       "      <th>107</th>\n",
       "      <td>0.96</td>\n",
       "      <td>0.892857</td>\n",
       "      <td>4</td>\n",
       "      <td>3.5</td>\n",
       "      <td>4.5</td>\n",
       "      <td>0.852564</td>\n",
       "      <td>1</td>\n",
       "    </tr>\n",
       "    <tr>\n",
       "      <th>336</th>\n",
       "      <td>0.58</td>\n",
       "      <td>0.642857</td>\n",
       "      <td>3</td>\n",
       "      <td>3.0</td>\n",
       "      <td>2.5</td>\n",
       "      <td>0.637821</td>\n",
       "      <td>0</td>\n",
       "    </tr>\n",
       "    <tr>\n",
       "      <th>71</th>\n",
       "      <td>0.92</td>\n",
       "      <td>0.714286</td>\n",
       "      <td>5</td>\n",
       "      <td>5.0</td>\n",
       "      <td>5.0</td>\n",
       "      <td>0.948718</td>\n",
       "      <td>1</td>\n",
       "    </tr>\n",
       "    <tr>\n",
       "      <th>474</th>\n",
       "      <td>0.36</td>\n",
       "      <td>0.464286</td>\n",
       "      <td>4</td>\n",
       "      <td>3.0</td>\n",
       "      <td>2.5</td>\n",
       "      <td>0.368590</td>\n",
       "      <td>1</td>\n",
       "    </tr>\n",
       "    <tr>\n",
       "      <th>6</th>\n",
       "      <td>0.62</td>\n",
       "      <td>0.607143</td>\n",
       "      <td>3</td>\n",
       "      <td>3.0</td>\n",
       "      <td>4.0</td>\n",
       "      <td>0.448718</td>\n",
       "      <td>1</td>\n",
       "    </tr>\n",
       "  </tbody>\n",
       "</table>\n",
       "</div>"
      ],
      "text/plain": [
       "     GRE Score  TOEFL Score  University Rating  SOP  LOR       CGPA  Research\n",
       "107       0.96     0.892857                  4  3.5   4.5  0.852564         1\n",
       "336       0.58     0.642857                  3  3.0   2.5  0.637821         0\n",
       "71        0.92     0.714286                  5  5.0   5.0  0.948718         1\n",
       "474       0.36     0.464286                  4  3.0   2.5  0.368590         1\n",
       "6         0.62     0.607143                  3  3.0   4.0  0.448718         1"
      ]
     },
     "execution_count": 6,
     "metadata": {},
     "output_type": "execute_result"
    }
   ],
   "source": [
    "# Get the data. Note that there are two versions. We will use the one\n",
    "# with the most rows.\n",
    "\n",
    "train_data = pd.read_csv(\"/kaggle/input/graduate-admissions/Admission_Predict_Ver1.1.csv\")\n",
    "\n",
    "# Set X and y\n",
    "X = train_data.drop(['Chance of Admit ', 'Serial No.'], axis=1) # Chance of Admit is the target variable and Serial No. is the order. So we drop them.\n",
    "y = pd.DataFrame(data = train_data['Chance of Admit ']).to_numpy()\n",
    "\n",
    "# Select columns to be scaled\n",
    "columns = ['GRE Score', 'TOEFL Score', 'CGPA']\n",
    "\n",
    "# Min-max scaling\n",
    "X = normalize(X, columns)\n",
    "\n",
    "# Instead of finding probabilities, we want to calculate the percentages.\n",
    "y = y * 100\n",
    "\n",
    "# Break off validation set from training data\n",
    "X_train, X_valid, y_train, y_valid = train_test_split(X, y, train_size=0.8, test_size=0.2, random_state = 0)\n",
    "\n",
    "X_train.head()"
   ]
  },
  {
   "cell_type": "code",
   "execution_count": 7,
   "id": "e1621259",
   "metadata": {
    "execution": {
     "iopub.execute_input": "2023-04-06T18:52:28.730180Z",
     "iopub.status.busy": "2023-04-06T18:52:28.729326Z",
     "iopub.status.idle": "2023-04-06T18:52:28.741912Z",
     "shell.execute_reply": "2023-04-06T18:52:28.740501Z"
    },
    "papermill": {
     "duration": 0.023362,
     "end_time": "2023-04-06T18:52:28.744492",
     "exception": false,
     "start_time": "2023-04-06T18:52:28.721130",
     "status": "completed"
    },
    "tags": []
   },
   "outputs": [
    {
     "data": {
      "text/html": [
       "<div>\n",
       "<style scoped>\n",
       "    .dataframe tbody tr th:only-of-type {\n",
       "        vertical-align: middle;\n",
       "    }\n",
       "\n",
       "    .dataframe tbody tr th {\n",
       "        vertical-align: top;\n",
       "    }\n",
       "\n",
       "    .dataframe thead th {\n",
       "        text-align: right;\n",
       "    }\n",
       "</style>\n",
       "<table border=\"1\" class=\"dataframe\">\n",
       "  <thead>\n",
       "    <tr style=\"text-align: right;\">\n",
       "      <th></th>\n",
       "      <th>GRE Score</th>\n",
       "      <th>TOEFL Score</th>\n",
       "      <th>University Rating</th>\n",
       "      <th>SOP</th>\n",
       "      <th>LOR</th>\n",
       "      <th>CGPA</th>\n",
       "      <th>Research</th>\n",
       "    </tr>\n",
       "  </thead>\n",
       "  <tbody>\n",
       "    <tr>\n",
       "      <th>90</th>\n",
       "      <td>0.56</td>\n",
       "      <td>0.500000</td>\n",
       "      <td>2</td>\n",
       "      <td>4.0</td>\n",
       "      <td>4.0</td>\n",
       "      <td>0.358974</td>\n",
       "      <td>1</td>\n",
       "    </tr>\n",
       "    <tr>\n",
       "      <th>254</th>\n",
       "      <td>0.62</td>\n",
       "      <td>0.785714</td>\n",
       "      <td>4</td>\n",
       "      <td>4.0</td>\n",
       "      <td>5.0</td>\n",
       "      <td>0.743590</td>\n",
       "      <td>0</td>\n",
       "    </tr>\n",
       "    <tr>\n",
       "      <th>283</th>\n",
       "      <td>0.62</td>\n",
       "      <td>0.678571</td>\n",
       "      <td>3</td>\n",
       "      <td>2.5</td>\n",
       "      <td>3.0</td>\n",
       "      <td>0.673077</td>\n",
       "      <td>1</td>\n",
       "    </tr>\n",
       "    <tr>\n",
       "      <th>445</th>\n",
       "      <td>0.76</td>\n",
       "      <td>0.857143</td>\n",
       "      <td>5</td>\n",
       "      <td>4.5</td>\n",
       "      <td>5.0</td>\n",
       "      <td>0.730769</td>\n",
       "      <td>1</td>\n",
       "    </tr>\n",
       "    <tr>\n",
       "      <th>461</th>\n",
       "      <td>0.22</td>\n",
       "      <td>0.357143</td>\n",
       "      <td>3</td>\n",
       "      <td>2.5</td>\n",
       "      <td>2.0</td>\n",
       "      <td>0.426282</td>\n",
       "      <td>1</td>\n",
       "    </tr>\n",
       "  </tbody>\n",
       "</table>\n",
       "</div>"
      ],
      "text/plain": [
       "     GRE Score  TOEFL Score  University Rating  SOP  LOR       CGPA  Research\n",
       "90        0.56     0.500000                  2  4.0   4.0  0.358974         1\n",
       "254       0.62     0.785714                  4  4.0   5.0  0.743590         0\n",
       "283       0.62     0.678571                  3  2.5   3.0  0.673077         1\n",
       "445       0.76     0.857143                  5  4.5   5.0  0.730769         1\n",
       "461       0.22     0.357143                  3  2.5   2.0  0.426282         1"
      ]
     },
     "execution_count": 7,
     "metadata": {},
     "output_type": "execute_result"
    }
   ],
   "source": [
    "X_valid.head()"
   ]
  },
  {
   "cell_type": "markdown",
   "id": "2cf123d4",
   "metadata": {
    "papermill": {
     "duration": 0.007674,
     "end_time": "2023-04-06T18:52:28.759929",
     "exception": false,
     "start_time": "2023-04-06T18:52:28.752255",
     "status": "completed"
    },
    "tags": []
   },
   "source": [
    "# Model Training   <a id='training'></a> "
   ]
  },
  {
   "cell_type": "markdown",
   "id": "103e41c6",
   "metadata": {
    "papermill": {
     "duration": 0.007221,
     "end_time": "2023-04-06T18:52:28.774630",
     "exception": false,
     "start_time": "2023-04-06T18:52:28.767409",
     "status": "completed"
    },
    "tags": []
   },
   "source": [
    "As discussed in [The Hypothesis](#hypothesis) part, we need to define an $X_0$ feature equal to one for all training examples for a vectorized solution. So our first task is to insert the $X_0$ column into the training and validation data. Next, we need to initialize the $\\theta$ vector, which will be all zeros. As the last step, we will set the learning rate and threshold values. \n",
    "\n",
    "The threshold value will be used to check whether the gradient descent converges. To do that, we will subtract consecutive cost values in the while loop. If the difference is smaller than a certain threshold, we will conclude that the gradient descent converges. "
   ]
  },
  {
   "cell_type": "code",
   "execution_count": 8,
   "id": "7e68d8bd",
   "metadata": {
    "execution": {
     "iopub.execute_input": "2023-04-06T18:52:28.791303Z",
     "iopub.status.busy": "2023-04-06T18:52:28.790889Z",
     "iopub.status.idle": "2023-04-06T18:52:28.828968Z",
     "shell.execute_reply": "2023-04-06T18:52:28.827307Z"
    },
    "papermill": {
     "duration": 0.049349,
     "end_time": "2023-04-06T18:52:28.831424",
     "exception": false,
     "start_time": "2023-04-06T18:52:28.782075",
     "status": "completed"
    },
    "tags": []
   },
   "outputs": [
    {
     "name": "stdout",
     "output_type": "stream",
     "text": [
      "initial Cost: 2741.2200000000003\n",
      "\n",
      "Iteration: 1\n",
      "Calculated cost: 1803.536465562745\n",
      "cost difference: 937.6835344372553\n",
      "\n",
      "Iteration: 2\n",
      "Calculated cost: 1194.666514354635\n",
      "cost difference: 608.86995120811\n",
      "\n",
      "Iteration: 3\n",
      "Calculated cost: 799.3013538757673\n",
      "cost difference: 395.36516047886767\n",
      "\n",
      "Iteration: 4\n",
      "Calculated cost: 542.5688457291143\n",
      "cost difference: 256.732508146653\n",
      "\n",
      "Iteration: 5\n",
      "Calculated cost: 375.85312124304767\n",
      "cost difference: 166.71572448606662\n",
      "\n",
      "Iteration: 6\n",
      "Calculated cost: 267.586994808255\n",
      "cost difference: 108.26612643479268\n",
      "\n",
      "Iteration: 7\n",
      "Calculated cost: 197.2733070302654\n",
      "cost difference: 70.31368777798957\n",
      "\n",
      "Iteration: 8\n",
      "Calculated cost: 151.6028719171572\n",
      "cost difference: 45.670435113108226\n",
      "\n",
      "Iteration: 9\n",
      "Calculated cost: 121.9337879653226\n",
      "cost difference: 29.669083951834594\n",
      "\n",
      "Iteration: 10\n",
      "Calculated cost: 102.65470808144767\n",
      "cost difference: 19.279079883874928\n",
      "\n",
      "Iteration: 11\n",
      "Calculated cost: 90.12208037681452\n",
      "cost difference: 12.532627704633143\n",
      "\n",
      "Iteration: 12\n",
      "Calculated cost: 81.97007889780986\n",
      "cost difference: 8.152001479004667\n",
      "\n",
      "Iteration: 13\n",
      "Calculated cost: 76.66252884647793\n",
      "cost difference: 5.30755005133193\n",
      "\n",
      "Iteration: 14\n",
      "Calculated cost: 73.20196331315147\n",
      "cost difference: 3.4605655333264593\n",
      "\n",
      "Iteration: 15\n",
      "Calculated cost: 70.94070841511464\n",
      "cost difference: 2.2612548980368246\n",
      "\n",
      "Iteration: 16\n",
      "Calculated cost: 69.45821737222248\n",
      "cost difference: 1.482491042892164\n",
      "\n",
      "Iteration: 17\n",
      "Calculated cost: 68.4814212463933\n",
      "cost difference: 0.976796125829182\n",
      "\n",
      "Iteration: 18\n",
      "Calculated cost: 67.83301119903675\n",
      "cost difference: 0.6484100473565491\n",
      "\n",
      "Iteration: 19\n",
      "Calculated cost: 67.39785720128711\n",
      "cost difference: 0.43515399774963726\n",
      "\n",
      "Iteration: 20\n",
      "Calculated cost: 67.10120307952614\n",
      "cost difference: 0.29665412176096595\n",
      "\n",
      "Iteration: 21\n",
      "Calculated cost: 66.89450815389439\n",
      "cost difference: 0.2066949256317514\n",
      "\n",
      "Iteration: 22\n",
      "Calculated cost: 66.7462539514959\n",
      "cost difference: 0.14825420239849052\n",
      "\n",
      "Iteration: 23\n",
      "Calculated cost: 66.63597483471817\n",
      "cost difference: 0.11027911677773261\n",
      "\n",
      "Iteration: 24\n",
      "Calculated cost: 66.55038197744864\n",
      "cost difference: 0.08559285726953192\n",
      "\n",
      "Execution time: 24.621687999999864 milliseconds\n",
      "\n",
      "Calculated\u001b[1m θ\u001b[0m: [2.03692557 1.13926025 1.14289218 6.02902784 6.60181418 6.82324225\n",
      " 1.20521232 1.25048269]\n"
     ]
    }
   ],
   "source": [
    "# Initialize\n",
    "\n",
    "# Calculate elapsed CPU time\n",
    "start = process_time()\n",
    "\n",
    "# Calculate the number of examles\n",
    "m_train = len(X_train)\n",
    "m_valid = len(X_valid)\n",
    "\n",
    "# Calculate the number of features\n",
    "# including X_0\n",
    "n = len(X_train.axes[1]) + 1\n",
    "\n",
    "# Create a list of ones\n",
    "ones_train = [1] * m_train\n",
    "ones_valid = [1] * m_valid\n",
    "\n",
    "# Insert ones to the fist column since\n",
    "# X_0 for all training examples should\n",
    "# be one.\n",
    "X_train.insert(0, \"X_0\", ones_train, True)\n",
    "X_valid.insert(0, \"X_0\", ones_valid, True)\n",
    "\n",
    "# Select zero vector for initial theta\n",
    "zero_list= [0] * n\n",
    "theta = np.asarray(zero_list)\n",
    "\n",
    "# set learning rate \n",
    "alpha = 0.005\n",
    "\n",
    "# Set convergence threshold\n",
    "threshold = 0.1\n",
    "\n",
    "# Initial cost value.\n",
    "# Will also be used in the first iteration\n",
    "# of the while loop. If the initial cost\n",
    "# is smaller then convergence threshold then\n",
    "# while loop will not be executed.\n",
    "cost_diff = J(X_train, y_train, theta)\n",
    "print(\"initial Cost: {}\".format(cost_diff))\n",
    "\n",
    "# We will count the number of iterations.\n",
    "my_iter = 0\n",
    "\n",
    "# Create a dictionary of cost values for debugging\n",
    "cost_dict = {} # will be used for storing the cost value of each iteration.\n",
    "\n",
    "# Add initial cost value to the dictionary\n",
    "my_key = \"I_\" + str(my_iter)\n",
    "cost_dict[my_key] = cost_diff\n",
    "\n",
    "# Start gradient descent\n",
    "while cost_diff >= threshold:\n",
    "    \n",
    "    # calculate initial cost value\n",
    "    initial_cost = J(X_train, y_train, theta)\n",
    "    \n",
    "    # calculate and assign the new theta values\n",
    "    theta = gradient(X_train, y_train, theta, alpha)\n",
    "    \n",
    "    # calculate the consecutive cost value\n",
    "    new_cost = J(X_train, y_train, theta)\n",
    "        \n",
    "    # calculate the difference between the consecutive\n",
    "    # cost values\n",
    "    cost_diff = initial_cost - new_cost\n",
    "    \n",
    "    # Update the dictionary\n",
    "    my_key = \"I_\" + str(my_iter)\n",
    "    cost_dict[my_key] = new_cost\n",
    "    \n",
    "    my_iter += 1\n",
    "    \n",
    "    print()\n",
    "    print(\"Iteration: {}\".format(my_iter))\n",
    "    print(\"Calculated cost: {}\".format(new_cost))\n",
    "    print(\"cost difference: {}\".format(cost_diff))\n",
    "\n",
    "# Calculate elapsed CPU time\n",
    "end = process_time()\n",
    "execution_time = (end - start)*1000\n",
    "\n",
    "# display theta and cpu execution time of training\n",
    "print(\"\\nExecution time: {} milliseconds\".format(execution_time))\n",
    "print(\"\\nCalculated\\033[1m θ\\033[0m: {}\".format(theta))"
   ]
  },
  {
   "cell_type": "markdown",
   "id": "da652d69",
   "metadata": {
    "papermill": {
     "duration": 0.008081,
     "end_time": "2023-04-06T18:52:28.847268",
     "exception": false,
     "start_time": "2023-04-06T18:52:28.839187",
     "status": "completed"
    },
    "tags": []
   },
   "source": [
    "For debugging purposes, we can draw learning curves. A learning curve created with the training process data is called the training learning curve. The x-axis of the learning curve is the number of iterations, and the y-axis is the calculated cost value in each iteration. We must be sure that the cost value decreases in each iteration."
   ]
  },
  {
   "cell_type": "markdown",
   "id": "378bc067",
   "metadata": {
    "papermill": {
     "duration": 0.007672,
     "end_time": "2023-04-06T18:52:28.862983",
     "exception": false,
     "start_time": "2023-04-06T18:52:28.855311",
     "status": "completed"
    },
    "tags": []
   },
   "source": [
    "<div class=\"alert alert-block alert-warning\">\n",
    "<b>Warning:</b> An iteration count larger than 50 may cause the x-axis of the figure to be unreadable. Any reader reproducing the code may want to change the dictionary key values used to draw the x-axis, especially for low learning rate values. \n",
    "</div>"
   ]
  },
  {
   "cell_type": "code",
   "execution_count": 9,
   "id": "09f263ab",
   "metadata": {
    "execution": {
     "iopub.execute_input": "2023-04-06T18:52:28.881817Z",
     "iopub.status.busy": "2023-04-06T18:52:28.881390Z",
     "iopub.status.idle": "2023-04-06T18:52:29.180770Z",
     "shell.execute_reply": "2023-04-06T18:52:29.179051Z"
    },
    "papermill": {
     "duration": 0.312194,
     "end_time": "2023-04-06T18:52:29.183986",
     "exception": false,
     "start_time": "2023-04-06T18:52:28.871792",
     "status": "completed"
    },
    "tags": []
   },
   "outputs": [
    {
     "data": {
      "text/plain": [
       "[<matplotlib.lines.Line2D at 0x7054fd6fbcd0>]"
      ]
     },
     "execution_count": 9,
     "metadata": {},
     "output_type": "execute_result"
    },
    {
     "data": {
      "image/png": "[encoded data removed]",
      "text/plain": [
       "<Figure size 1440x720 with 1 Axes>"
      ]
     },
     "metadata": {
      "needs_background": "light"
     },
     "output_type": "display_data"
    }
   ],
   "source": [
    "# Plot Training Learning Curve\n",
    "Y1=[x for x in cost_dict.values()]\n",
    "\n",
    "X1=[x for x in cost_dict.keys()]\n",
    "\n",
    "fig = plt.figure(figsize=[20, 10])\n",
    "plt.xlabel('Iterations')\n",
    "plt.ylabel('J(θ)')\n",
    "plt.title('The Training Learning Curve')\n",
    "plt.plot(X1,Y1, color='tab:blue')\n"
   ]
  },
  {
   "cell_type": "markdown",
   "id": "119b93c2",
   "metadata": {
    "papermill": {
     "duration": 0.008108,
     "end_time": "2023-04-06T18:52:29.201100",
     "exception": false,
     "start_time": "2023-04-06T18:52:29.192992",
     "status": "completed"
    },
    "tags": []
   },
   "source": [
    "# Model Validation   <a id='validation'></a> "
   ]
  },
  {
   "cell_type": "markdown",
   "id": "0e248e0e",
   "metadata": {
    "papermill": {
     "duration": 0.008219,
     "end_time": "2023-04-06T18:52:29.217791",
     "exception": false,
     "start_time": "2023-04-06T18:52:29.209572",
     "status": "completed"
    },
    "tags": []
   },
   "source": [
    "As described in the previous section, we can use learning curves to debug our model. Our learning curve seems all right, and its shape is just as expected. But we still need to validate our model. To do that, we have already split our data into training and validation datasets before training starts since, for validation, we must use data that has never been used in the training process.\n",
    "\n",
    "We will use the following  $\\theta$ vector, calculated in the [Model Training](#training) section:\n",
    "\n",
    "$\\boldsymbol{\\theta}: [\\theta_0 = 2.03692557 \\text{, }  \\theta_1 = 1.13926025\\text{, } \\theta_2 = 1.14289218\\text{, } \\theta_3 = 6.02902784\\text{, } \\theta_4 = 6.60181418\\text{, } \\theta_5 = 6.82324225\\text{, } \\theta_6 = 1.20521232 \\text{, } \\theta_7 = 1.25048269]$"
   ]
  },
  {
   "cell_type": "code",
   "execution_count": 10,
   "id": "1cbae8e6",
   "metadata": {
    "execution": {
     "iopub.execute_input": "2023-04-06T18:52:29.236929Z",
     "iopub.status.busy": "2023-04-06T18:52:29.236150Z",
     "iopub.status.idle": "2023-04-06T18:52:29.242900Z",
     "shell.execute_reply": "2023-04-06T18:52:29.241287Z"
    },
    "papermill": {
     "duration": 0.019018,
     "end_time": "2023-04-06T18:52:29.245159",
     "exception": false,
     "start_time": "2023-04-06T18:52:29.226141",
     "status": "completed"
    },
    "tags": []
   },
   "outputs": [
    {
     "name": "stdout",
     "output_type": "stream",
     "text": [
      "\n",
      " \u001b[1m θ\u001b[0m: [2.03692557 1.13926025 1.14289218 6.02902784 6.60181418 6.82324225\n",
      " 1.20521232 1.25048269]\n",
      "\n",
      "Cost of test data: 76.48149798139413\n"
     ]
    }
   ],
   "source": [
    "print(\"\\n \\033[1m θ\\033[0m: {}\\n\".format(theta))\n",
    "\n",
    "# calculate the cost value for the test set\n",
    "cost_test = J(X_valid, y_valid, theta)\n",
    "print(\"Cost of test data: {}\".format(cost_test))"
   ]
  },
  {
   "cell_type": "markdown",
   "id": "f1fe9f9f",
   "metadata": {
    "papermill": {
     "duration": 0.008084,
     "end_time": "2023-04-06T18:52:29.261771",
     "exception": false,
     "start_time": "2023-04-06T18:52:29.253687",
     "status": "completed"
    },
    "tags": []
   },
   "source": [
    "The cost of the validation dataset seems slightly bigger (worse) than the training dataset, which is expected. We can also see the validation results below:"
   ]
  },
  {
   "cell_type": "code",
   "execution_count": 11,
   "id": "a5183e9c",
   "metadata": {
    "execution": {
     "iopub.execute_input": "2023-04-06T18:52:29.281202Z",
     "iopub.status.busy": "2023-04-06T18:52:29.280632Z",
     "iopub.status.idle": "2023-04-06T18:52:29.293563Z",
     "shell.execute_reply": "2023-04-06T18:52:29.291994Z"
    },
    "papermill": {
     "duration": 0.026932,
     "end_time": "2023-04-06T18:52:29.297344",
     "exception": false,
     "start_time": "2023-04-06T18:52:29.270412",
     "status": "completed"
    },
    "tags": []
   },
   "outputs": [
    {
     "data": {
      "text/html": [
       "<div>\n",
       "<style scoped>\n",
       "    .dataframe tbody tr th:only-of-type {\n",
       "        vertical-align: middle;\n",
       "    }\n",
       "\n",
       "    .dataframe tbody tr th {\n",
       "        vertical-align: top;\n",
       "    }\n",
       "\n",
       "    .dataframe thead th {\n",
       "        text-align: right;\n",
       "    }\n",
       "</style>\n",
       "<table border=\"1\" class=\"dataframe\">\n",
       "  <thead>\n",
       "    <tr style=\"text-align: right;\">\n",
       "      <th></th>\n",
       "      <th>Actual CoA</th>\n",
       "      <th>Predicted CoA</th>\n",
       "    </tr>\n",
       "  </thead>\n",
       "  <tbody>\n",
       "    <tr>\n",
       "      <th>90</th>\n",
       "      <td>64.0</td>\n",
       "      <td>70.687762</td>\n",
       "    </tr>\n",
       "    <tr>\n",
       "      <th>254</th>\n",
       "      <td>85.0</td>\n",
       "      <td>89.177016</td>\n",
       "    </tr>\n",
       "    <tr>\n",
       "      <th>283</th>\n",
       "      <td>80.0</td>\n",
       "      <td>60.641830</td>\n",
       "    </tr>\n",
       "    <tr>\n",
       "      <th>445</th>\n",
       "      <td>91.0</td>\n",
       "      <td>99.983114</td>\n",
       "    </tr>\n",
       "    <tr>\n",
       "      <th>461</th>\n",
       "      <td>68.0</td>\n",
       "      <td>52.698085</td>\n",
       "    </tr>\n",
       "  </tbody>\n",
       "</table>\n",
       "</div>"
      ],
      "text/plain": [
       "     Actual CoA  Predicted CoA\n",
       "90         64.0      70.687762\n",
       "254        85.0      89.177016\n",
       "283        80.0      60.641830\n",
       "445        91.0      99.983114\n",
       "461        68.0      52.698085"
      ]
     },
     "execution_count": 11,
     "metadata": {},
     "output_type": "execute_result"
    }
   ],
   "source": [
    "result = pd.DataFrame(index=X_valid.index)\n",
    "result['Actual CoA'] = y_valid\n",
    "result['Predicted CoA'] = h(X_valid, theta)\n",
    "result.head()"
   ]
  },
  {
   "cell_type": "markdown",
   "id": "8791ffd1",
   "metadata": {
    "papermill": {
     "duration": 0.008831,
     "end_time": "2023-04-06T18:52:29.315723",
     "exception": false,
     "start_time": "2023-04-06T18:52:29.306892",
     "status": "completed"
    },
    "tags": []
   },
   "source": [
    "# Conclusion   <a id='conclusion'></a> "
   ]
  },
  {
   "cell_type": "markdown",
   "id": "e7460b2c",
   "metadata": {
    "papermill": {
     "duration": 0.009388,
     "end_time": "2023-04-06T18:52:29.334094",
     "exception": false,
     "start_time": "2023-04-06T18:52:29.324706",
     "status": "completed"
    },
    "tags": []
   },
   "source": [
    "In this notebook, we have written the hypothesis, cost function, and gradient descent algorithms in Python with a vectorization method for a multivariate Linear Regression task. We have also normalized a portion of our data, trained a Linear Regression model, and validated it by splitting our data.\n",
    "\n",
    "We set the learning rate high and the convergence threshold low for demonstration purposes, resulting in a learning cost of approximately 66 and a validation cost of roughly 76. This cost is somewhat high, which can be easily seen by checking the predicted and actual ***Chance of Admit*** values. By playing with the learning rate and threshold values, we can get a training cost value smaller than 20, resulting in better predictions. \n",
    "\n",
    "Please feel free to correct me if I've made mistakes, and also, if you need help implementing the code, just let me know via the comments. I will try to answer as soon as possible.\n",
    "\n",
    "Thank you for reading!"
   ]
  },
  {
   "cell_type": "markdown",
   "id": "44764984",
   "metadata": {
    "papermill": {
     "duration": 0.009246,
     "end_time": "2023-04-06T18:52:29.352154",
     "exception": false,
     "start_time": "2023-04-06T18:52:29.342908",
     "status": "completed"
    },
    "tags": []
   },
   "source": [
    "# References   <a id='references'></a>\n",
    "* [Machine Learning Specialization - Deeplearning.AI](https://www.deeplearning.ai/program/machine-learning-specialization/)\n",
    "* [Andrew Ng](https://en.wikipedia.org/wiki/Andrew_Ng)\n",
    "* [@Mohan S Acharya](https://www.kaggle.com/mohansacharya)\n",
    "* [10-simple-hacks-to-speed-up-your-data-analysis - Parul Pandey](https://www.kaggle.com/parulpandey/10-simple-hacks-to-speed-up-your-data-analysis)\n",
    "* [Univariate Linear Regression From Scratch - Kaggle](https://www.kaggle.com/code/erkanhatipoglu/univariate-linear-regression-from-scratch)\n",
    "* [Univariate Linear Regression From Scratch - Towards AI](https://pub.towardsai.net/univariate-linear-regression-from-scratch-68065fe8eb09)\n",
    "* [Multivariate Linear Regression From Scratch - Towards AI](https://medium.com/towards-artificial-intelligence/multivariate-linear-regression-from-scratch-c6702e26cce0https://medium.com/towards-artificial-intelligence/multivariate-linear-regression-from-scratch-c6702e26cce0)\n",
    "* [Towards AI](https://pub.towardsai.net/)"
   ]
  }
 ],
 "metadata": {
  "kernelspec": {
   "display_name": "Python 3",
   "language": "python",
   "name": "python3"
  },
  "language_info": {
   "codemirror_mode": {
    "name": "ipython",
    "version": 3
   },
   "file_extension": ".py",
   "mimetype": "text/x-python",
   "name": "python",
   "nbconvert_exporter": "python",
   "pygments_lexer": "ipython3",
   "version": "3.7.12"
  },
  "papermill": {
   "default_parameters": {},
   "duration": 12.906683,
   "end_time": "2023-04-06T18:52:30.084566",
   "environment_variables": {},
   "exception": null,
   "input_path": "__notebook__.ipynb",
   "output_path": "__notebook__.ipynb",
   "parameters": {},
   "start_time": "2023-04-06T18:52:17.177883",
   "version": "2.3.4"
  }
 },
 "nbformat": 4,
 "nbformat_minor": 5
}
