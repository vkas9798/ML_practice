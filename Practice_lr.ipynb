{
 "cells": [
  {
   "cell_type": "code",
   "execution_count": 1,
   "id": "fba0aee0",
   "metadata": {},
   "outputs": [],
   "source": [
    "import numpy as np\n",
    "import pandas as pd\n",
    "import matplotlib.pyplot as plt\n",
    "%matplotlib inline"
   ]
  },
  {
   "cell_type": "code",
   "execution_count": 2,
   "id": "8c4c9448",
   "metadata": {},
   "outputs": [],
   "source": [
    "# Hypothesis\n",
    "def h(x, theta):\n",
    "    return np.dot(x,theta)"
   ]
  },
  {
   "cell_type": "code",
   "execution_count": 57,
   "id": "3a7b5eec",
   "metadata": {},
   "outputs": [],
   "source": [
    "# Cost function\n",
    "def J(X,y,theta):\n",
    "    #constant\n",
    "    c = (1/(2*len(X)))\n",
    "    temp_0 = h(X,theta)-y.reshape(-1)\n",
    "    temp_1 = temp_0.transpose()\n",
    "    temp_2 = np.dot(temp_0,temp_1)\n",
    "    return c*temp_2"
   ]
  },
  {
   "cell_type": "code",
   "execution_count": 58,
   "id": "5d1f2c97",
   "metadata": {},
   "outputs": [],
   "source": [
    "# Gradient Descent\n",
    "def gradient(X,y,theta,alpha):\n",
    "    #constant\n",
    "    c= (alpha/len(X))\n",
    "    temp_0 = X.transpose()\n",
    "    temp_1 = h(X,theta)-y.reshape(-1)\n",
    "    temp_2 = np.dot(temp_0,temp_1)\n",
    "    return theta - (c*temp_2)"
   ]
  },
  {
   "cell_type": "code",
   "execution_count": 5,
   "id": "88f216bb",
   "metadata": {},
   "outputs": [],
   "source": [
    "# Normalisation\n",
    "def normalisation(X, columns):\n",
    "    for column in columns:\n",
    "        X[column] = (X[column]-X[column].min())/(X[column].max()-X[column].min())\n",
    "    return X"
   ]
  },
  {
   "cell_type": "markdown",
   "id": "dba00f1d",
   "metadata": {},
   "source": [
    "### Load Data and train model"
   ]
  },
  {
   "cell_type": "code",
   "execution_count": 64,
   "id": "9b26c345",
   "metadata": {},
   "outputs": [],
   "source": [
    "df = pd.read_csv(\"Admission_Predict_Ver1.1.csv\")"
   ]
  },
  {
   "cell_type": "code",
   "execution_count": 65,
   "id": "47879468",
   "metadata": {},
   "outputs": [
    {
     "data": {
      "text/html": [
       "<div>\n",
       "<style scoped>\n",
       "    .dataframe tbody tr th:only-of-type {\n",
       "        vertical-align: middle;\n",
       "    }\n",
       "\n",
       "    .dataframe tbody tr th {\n",
       "        vertical-align: top;\n",
       "    }\n",
       "\n",
       "    .dataframe thead th {\n",
       "        text-align: right;\n",
       "    }\n",
       "</style>\n",
       "<table border=\"1\" class=\"dataframe\">\n",
       "  <thead>\n",
       "    <tr style=\"text-align: right;\">\n",
       "      <th></th>\n",
       "      <th>Serial No.</th>\n",
       "      <th>GRE Score</th>\n",
       "      <th>TOEFL Score</th>\n",
       "      <th>University Rating</th>\n",
       "      <th>SOP</th>\n",
       "      <th>LOR</th>\n",
       "      <th>CGPA</th>\n",
       "      <th>Research</th>\n",
       "      <th>Chance of Admit</th>\n",
       "    </tr>\n",
       "  </thead>\n",
       "  <tbody>\n",
       "    <tr>\n",
       "      <th>225</th>\n",
       "      <td>226</td>\n",
       "      <td>296</td>\n",
       "      <td>99</td>\n",
       "      <td>2</td>\n",
       "      <td>2.5</td>\n",
       "      <td>2.5</td>\n",
       "      <td>8.03</td>\n",
       "      <td>0</td>\n",
       "      <td>0.61</td>\n",
       "    </tr>\n",
       "    <tr>\n",
       "      <th>297</th>\n",
       "      <td>298</td>\n",
       "      <td>320</td>\n",
       "      <td>120</td>\n",
       "      <td>3</td>\n",
       "      <td>4.0</td>\n",
       "      <td>4.5</td>\n",
       "      <td>9.11</td>\n",
       "      <td>0</td>\n",
       "      <td>0.86</td>\n",
       "    </tr>\n",
       "  </tbody>\n",
       "</table>\n",
       "</div>"
      ],
      "text/plain": [
       "     Serial No.  GRE Score  TOEFL Score  University Rating  SOP  LOR   CGPA  \\\n",
       "225         226        296           99                  2  2.5   2.5  8.03   \n",
       "297         298        320          120                  3  4.0   4.5  9.11   \n",
       "\n",
       "     Research  Chance of Admit   \n",
       "225         0              0.61  \n",
       "297         0              0.86  "
      ]
     },
     "execution_count": 65,
     "metadata": {},
     "output_type": "execute_result"
    }
   ],
   "source": [
    "df.sample(2)"
   ]
  },
  {
   "cell_type": "code",
   "execution_count": 66,
   "id": "73c2879d",
   "metadata": {},
   "outputs": [
    {
     "data": {
      "text/plain": [
       "Index(['Serial No.', 'GRE Score', 'TOEFL Score', 'University Rating', 'SOP',\n",
       "       'LOR ', 'CGPA', 'Research', 'Chance of Admit '],\n",
       "      dtype='object')"
      ]
     },
     "execution_count": 66,
     "metadata": {},
     "output_type": "execute_result"
    }
   ],
   "source": [
    "df.columns"
   ]
  },
  {
   "cell_type": "markdown",
   "id": "6601ebaa",
   "metadata": {},
   "source": [
    "we dont need 'Serial No.' and 'Chance of Admit' as feature\n"
   ]
  },
  {
   "cell_type": "code",
   "execution_count": 78,
   "id": "d542c8fb",
   "metadata": {},
   "outputs": [],
   "source": [
    "X = df.drop(['Serial No.','Chance of Admit '],axis=1)\n",
    "y = df['Chance of Admit '].to_numpy()*100"
   ]
  },
  {
   "cell_type": "code",
   "execution_count": 79,
   "id": "300ba8d9",
   "metadata": {},
   "outputs": [
    {
     "data": {
      "text/html": [
       "<div>\n",
       "<style scoped>\n",
       "    .dataframe tbody tr th:only-of-type {\n",
       "        vertical-align: middle;\n",
       "    }\n",
       "\n",
       "    .dataframe tbody tr th {\n",
       "        vertical-align: top;\n",
       "    }\n",
       "\n",
       "    .dataframe thead th {\n",
       "        text-align: right;\n",
       "    }\n",
       "</style>\n",
       "<table border=\"1\" class=\"dataframe\">\n",
       "  <thead>\n",
       "    <tr style=\"text-align: right;\">\n",
       "      <th></th>\n",
       "      <th>GRE Score</th>\n",
       "      <th>TOEFL Score</th>\n",
       "      <th>University Rating</th>\n",
       "      <th>SOP</th>\n",
       "      <th>LOR</th>\n",
       "      <th>CGPA</th>\n",
       "      <th>Research</th>\n",
       "    </tr>\n",
       "  </thead>\n",
       "  <tbody>\n",
       "    <tr>\n",
       "      <th>268</th>\n",
       "      <td>327</td>\n",
       "      <td>113</td>\n",
       "      <td>4</td>\n",
       "      <td>4.5</td>\n",
       "      <td>5.0</td>\n",
       "      <td>9.14</td>\n",
       "      <td>0</td>\n",
       "    </tr>\n",
       "    <tr>\n",
       "      <th>448</th>\n",
       "      <td>312</td>\n",
       "      <td>109</td>\n",
       "      <td>2</td>\n",
       "      <td>2.5</td>\n",
       "      <td>4.0</td>\n",
       "      <td>9.02</td>\n",
       "      <td>0</td>\n",
       "    </tr>\n",
       "  </tbody>\n",
       "</table>\n",
       "</div>"
      ],
      "text/plain": [
       "     GRE Score  TOEFL Score  University Rating  SOP  LOR   CGPA  Research\n",
       "268        327          113                  4  4.5   5.0  9.14         0\n",
       "448        312          109                  2  2.5   4.0  9.02         0"
      ]
     },
     "execution_count": 79,
     "metadata": {},
     "output_type": "execute_result"
    }
   ],
   "source": [
    "X.sample(2)"
   ]
  },
  {
   "cell_type": "markdown",
   "id": "c31d3771",
   "metadata": {},
   "source": [
    "Lets normalise the data"
   ]
  },
  {
   "cell_type": "code",
   "execution_count": 80,
   "id": "60625c15",
   "metadata": {},
   "outputs": [],
   "source": [
    "columns = ['GRE Score', 'TOEFL Score','CGPA']\n",
    "X = normalisation(X,columns)"
   ]
  },
  {
   "cell_type": "code",
   "execution_count": 81,
   "id": "ebee2171",
   "metadata": {},
   "outputs": [
    {
     "data": {
      "text/html": [
       "<div>\n",
       "<style scoped>\n",
       "    .dataframe tbody tr th:only-of-type {\n",
       "        vertical-align: middle;\n",
       "    }\n",
       "\n",
       "    .dataframe tbody tr th {\n",
       "        vertical-align: top;\n",
       "    }\n",
       "\n",
       "    .dataframe thead th {\n",
       "        text-align: right;\n",
       "    }\n",
       "</style>\n",
       "<table border=\"1\" class=\"dataframe\">\n",
       "  <thead>\n",
       "    <tr style=\"text-align: right;\">\n",
       "      <th></th>\n",
       "      <th>GRE Score</th>\n",
       "      <th>TOEFL Score</th>\n",
       "      <th>University Rating</th>\n",
       "      <th>SOP</th>\n",
       "      <th>LOR</th>\n",
       "      <th>CGPA</th>\n",
       "      <th>Research</th>\n",
       "    </tr>\n",
       "  </thead>\n",
       "  <tbody>\n",
       "    <tr>\n",
       "      <th>408</th>\n",
       "      <td>0.14</td>\n",
       "      <td>0.321429</td>\n",
       "      <td>3</td>\n",
       "      <td>2.0</td>\n",
       "      <td>4.0</td>\n",
       "      <td>0.278846</td>\n",
       "      <td>1</td>\n",
       "    </tr>\n",
       "    <tr>\n",
       "      <th>282</th>\n",
       "      <td>0.44</td>\n",
       "      <td>0.500000</td>\n",
       "      <td>3</td>\n",
       "      <td>4.0</td>\n",
       "      <td>3.5</td>\n",
       "      <td>0.637821</td>\n",
       "      <td>1</td>\n",
       "    </tr>\n",
       "  </tbody>\n",
       "</table>\n",
       "</div>"
      ],
      "text/plain": [
       "     GRE Score  TOEFL Score  University Rating  SOP  LOR       CGPA  Research\n",
       "408       0.14     0.321429                  3  2.0   4.0  0.278846         1\n",
       "282       0.44     0.500000                  3  4.0   3.5  0.637821         1"
      ]
     },
     "execution_count": 81,
     "metadata": {},
     "output_type": "execute_result"
    }
   ],
   "source": [
    "X.sample(2)"
   ]
  },
  {
   "cell_type": "markdown",
   "id": "dcd10c1b",
   "metadata": {},
   "source": [
    "Lets add value of \"X_0\" i.e 1 to X"
   ]
  },
  {
   "cell_type": "code",
   "execution_count": 82,
   "id": "a9497e73",
   "metadata": {},
   "outputs": [],
   "source": [
    "ones_array = np.array([1]*len(X))\n",
    "X.insert(0,\"X_0\",ones_array, True)"
   ]
  },
  {
   "cell_type": "code",
   "execution_count": 83,
   "id": "28e25837",
   "metadata": {},
   "outputs": [
    {
     "data": {
      "text/html": [
       "<div>\n",
       "<style scoped>\n",
       "    .dataframe tbody tr th:only-of-type {\n",
       "        vertical-align: middle;\n",
       "    }\n",
       "\n",
       "    .dataframe tbody tr th {\n",
       "        vertical-align: top;\n",
       "    }\n",
       "\n",
       "    .dataframe thead th {\n",
       "        text-align: right;\n",
       "    }\n",
       "</style>\n",
       "<table border=\"1\" class=\"dataframe\">\n",
       "  <thead>\n",
       "    <tr style=\"text-align: right;\">\n",
       "      <th></th>\n",
       "      <th>X_0</th>\n",
       "      <th>GRE Score</th>\n",
       "      <th>TOEFL Score</th>\n",
       "      <th>University Rating</th>\n",
       "      <th>SOP</th>\n",
       "      <th>LOR</th>\n",
       "      <th>CGPA</th>\n",
       "      <th>Research</th>\n",
       "    </tr>\n",
       "  </thead>\n",
       "  <tbody>\n",
       "    <tr>\n",
       "      <th>378</th>\n",
       "      <td>1</td>\n",
       "      <td>0.26</td>\n",
       "      <td>0.214286</td>\n",
       "      <td>1</td>\n",
       "      <td>2.0</td>\n",
       "      <td>2.5</td>\n",
       "      <td>0.272436</td>\n",
       "      <td>0</td>\n",
       "    </tr>\n",
       "    <tr>\n",
       "      <th>89</th>\n",
       "      <td>1</td>\n",
       "      <td>0.52</td>\n",
       "      <td>0.607143</td>\n",
       "      <td>4</td>\n",
       "      <td>4.5</td>\n",
       "      <td>3.5</td>\n",
       "      <td>0.628205</td>\n",
       "      <td>1</td>\n",
       "    </tr>\n",
       "  </tbody>\n",
       "</table>\n",
       "</div>"
      ],
      "text/plain": [
       "     X_0  GRE Score  TOEFL Score  University Rating  SOP  LOR       CGPA  \\\n",
       "378    1       0.26     0.214286                  1  2.0   2.5  0.272436   \n",
       "89     1       0.52     0.607143                  4  4.5   3.5  0.628205   \n",
       "\n",
       "     Research  \n",
       "378         0  \n",
       "89          1  "
      ]
     },
     "execution_count": 83,
     "metadata": {},
     "output_type": "execute_result"
    }
   ],
   "source": [
    "X.sample(2)"
   ]
  },
  {
   "cell_type": "code",
   "execution_count": 84,
   "id": "8efcd4b9",
   "metadata": {},
   "outputs": [],
   "source": [
    "from sklearn.model_selection import train_test_split\n",
    "X_train,X_test, y_train, y_test = train_test_split(X,y,test_size=0.2, random_state=0)"
   ]
  },
  {
   "cell_type": "code",
   "execution_count": 85,
   "id": "e5d8954a",
   "metadata": {},
   "outputs": [],
   "source": [
    "from time import process_time"
   ]
  },
  {
   "cell_type": "code",
   "execution_count": 87,
   "id": "d9b43e4b",
   "metadata": {},
   "outputs": [
    {
     "name": "stdout",
     "output_type": "stream",
     "text": [
      "Intial Cost: 2741.2200000000003\n",
      "\n",
      "Iteration: 1\n",
      "New_cost: 1803.536465562745\n",
      "cost difference: 937.6835344372553\n",
      "\n",
      "Iteration: 2\n",
      "New_cost: 1194.666514354635\n",
      "cost difference: 608.86995120811\n",
      "\n",
      "Iteration: 3\n",
      "New_cost: 799.3013538757673\n",
      "cost difference: 395.36516047886767\n",
      "\n",
      "Iteration: 4\n",
      "New_cost: 542.5688457291143\n",
      "cost difference: 256.732508146653\n",
      "\n",
      "Iteration: 5\n",
      "New_cost: 375.8531212430477\n",
      "cost difference: 166.71572448606656\n",
      "\n",
      "Iteration: 6\n",
      "New_cost: 267.58699480825493\n",
      "cost difference: 108.2661264347928\n",
      "\n",
      "Iteration: 7\n",
      "New_cost: 197.27330703026547\n",
      "cost difference: 70.31368777798946\n",
      "\n",
      "Iteration: 8\n",
      "New_cost: 151.60287191715722\n",
      "cost difference: 45.670435113108255\n",
      "\n",
      "Iteration: 9\n",
      "New_cost: 121.93378796532261\n",
      "cost difference: 29.669083951834608\n",
      "\n",
      "Iteration: 10\n",
      "New_cost: 102.6547080814477\n",
      "cost difference: 19.279079883874914\n",
      "\n",
      "Iteration: 11\n",
      "New_cost: 90.12208037681452\n",
      "cost difference: 12.532627704633171\n",
      "\n",
      "Iteration: 12\n",
      "New_cost: 81.97007889780986\n",
      "cost difference: 8.152001479004667\n",
      "\n",
      "Iteration: 13\n",
      "New_cost: 76.66252884647793\n",
      "cost difference: 5.30755005133193\n",
      "\n",
      "Iteration: 14\n",
      "New_cost: 73.20196331315145\n",
      "cost difference: 3.4605655333264735\n",
      "\n",
      "Iteration: 15\n",
      "New_cost: 70.94070841511466\n",
      "cost difference: 2.261254898036796\n",
      "\n",
      "Iteration: 16\n",
      "New_cost: 69.4582173722225\n",
      "cost difference: 1.4824910428921498\n",
      "\n",
      "Iteration: 17\n",
      "New_cost: 68.4814212463933\n",
      "cost difference: 0.9767961258292104\n",
      "\n",
      "Iteration: 18\n",
      "New_cost: 67.83301119903673\n",
      "cost difference: 0.6484100473565633\n",
      "\n",
      "Iteration: 19\n",
      "New_cost: 67.39785720128711\n",
      "cost difference: 0.43515399774962304\n",
      "\n",
      "Iteration: 20\n",
      "New_cost: 67.10120307952614\n",
      "cost difference: 0.29665412176096595\n",
      "\n",
      "Iteration: 21\n",
      "New_cost: 66.89450815389439\n",
      "cost difference: 0.2066949256317514\n",
      "\n",
      "Iteration: 22\n",
      "New_cost: 66.74625395149593\n",
      "cost difference: 0.1482542023984621\n",
      "\n",
      "Iteration: 23\n",
      "New_cost: 66.63597483471816\n",
      "cost difference: 0.11027911677777524\n",
      "\n",
      "Iteration: 24\n",
      "New_cost: 66.55038197744864\n",
      "cost difference: 0.08559285726951771\n",
      "Execution time: 46.875\n",
      "theta: [2.03692557 1.13926025 1.14289218 6.02902784 6.60181418 6.82324225\n",
      " 1.20521232 1.25048269]\n"
     ]
    }
   ],
   "source": [
    "start = process_time()\n",
    "# Initialize theta\n",
    "theta = [0]*len(X_train.columns)\n",
    "alpha = 0.005\n",
    "threshold=0.1\n",
    "cost_dif = J(X_train,y_train,theta)\n",
    "print(f\"Intial Cost: {cost_dif}\")\n",
    "my_iter = 0\n",
    "cost_dict={}\n",
    "my_key = \"I_\"+str(my_iter)\n",
    "cost_dict[my_key] = cost_dif\n",
    "\n",
    "while cost_dif>=threshold:\n",
    "    initial_cost = J(X_train,y_train, theta)\n",
    "    theta = gradient(X_train, y_train, theta, alpha)\n",
    "    new_cost = J(X_train,y_train, theta)\n",
    "    cost_dif = -new_cost+initial_cost\n",
    "    my_key = \"I_\"+str(my_iter)\n",
    "    cost_dict[my_key] = cost_dif\n",
    "    \n",
    "    my_iter += 1\n",
    "    \n",
    "    print()\n",
    "    print(f\"Iteration: {my_iter}\")\n",
    "    print(f\"New_cost: {new_cost}\")\n",
    "    print(f\"cost difference: {cost_dif}\")\n",
    "    \n",
    "end = process_time()\n",
    "execution_time = (end-start)*1000\n",
    "\n",
    "print(f\"Execution time: {execution_time}\")\n",
    "print(f\"theta: {theta}\")"
   ]
  },
  {
   "cell_type": "code",
   "execution_count": 88,
   "id": "f6a14a20",
   "metadata": {},
   "outputs": [],
   "source": [
    "y_pred = h(X_test, theta)"
   ]
  },
  {
   "cell_type": "code",
   "execution_count": 92,
   "id": "237a5f8b",
   "metadata": {},
   "outputs": [
    {
     "data": {
      "text/html": [
       "<div>\n",
       "<style scoped>\n",
       "    .dataframe tbody tr th:only-of-type {\n",
       "        vertical-align: middle;\n",
       "    }\n",
       "\n",
       "    .dataframe tbody tr th {\n",
       "        vertical-align: top;\n",
       "    }\n",
       "\n",
       "    .dataframe thead th {\n",
       "        text-align: right;\n",
       "    }\n",
       "</style>\n",
       "<table border=\"1\" class=\"dataframe\">\n",
       "  <thead>\n",
       "    <tr style=\"text-align: right;\">\n",
       "      <th></th>\n",
       "      <th>0</th>\n",
       "      <th>1</th>\n",
       "      <th>2</th>\n",
       "      <th>3</th>\n",
       "      <th>4</th>\n",
       "      <th>5</th>\n",
       "      <th>6</th>\n",
       "      <th>7</th>\n",
       "      <th>8</th>\n",
       "      <th>9</th>\n",
       "      <th>...</th>\n",
       "      <th>90</th>\n",
       "      <th>91</th>\n",
       "      <th>92</th>\n",
       "      <th>93</th>\n",
       "      <th>94</th>\n",
       "      <th>95</th>\n",
       "      <th>96</th>\n",
       "      <th>97</th>\n",
       "      <th>98</th>\n",
       "      <th>99</th>\n",
       "    </tr>\n",
       "  </thead>\n",
       "  <tbody>\n",
       "    <tr>\n",
       "      <th>0</th>\n",
       "      <td>64.000000</td>\n",
       "      <td>85.000000</td>\n",
       "      <td>80.00000</td>\n",
       "      <td>91.000000</td>\n",
       "      <td>68.000000</td>\n",
       "      <td>54.000000</td>\n",
       "      <td>54.00000</td>\n",
       "      <td>65.000000</td>\n",
       "      <td>52.000000</td>\n",
       "      <td>79.000000</td>\n",
       "      <td>...</td>\n",
       "      <td>76.000000</td>\n",
       "      <td>78.000000</td>\n",
       "      <td>71.000000</td>\n",
       "      <td>73.000000</td>\n",
       "      <td>73.000000</td>\n",
       "      <td>95.000000</td>\n",
       "      <td>64.000000</td>\n",
       "      <td>53.000000</td>\n",
       "      <td>48.000000</td>\n",
       "      <td>64.000000</td>\n",
       "    </tr>\n",
       "    <tr>\n",
       "      <th>1</th>\n",
       "      <td>70.687762</td>\n",
       "      <td>89.177016</td>\n",
       "      <td>60.64183</td>\n",
       "      <td>99.983114</td>\n",
       "      <td>52.698085</td>\n",
       "      <td>61.945367</td>\n",
       "      <td>38.60329</td>\n",
       "      <td>78.900681</td>\n",
       "      <td>32.526111</td>\n",
       "      <td>69.281004</td>\n",
       "      <td>...</td>\n",
       "      <td>75.550546</td>\n",
       "      <td>67.245816</td>\n",
       "      <td>47.684557</td>\n",
       "      <td>60.085086</td>\n",
       "      <td>61.762543</td>\n",
       "      <td>87.644173</td>\n",
       "      <td>55.029727</td>\n",
       "      <td>42.048392</td>\n",
       "      <td>55.631782</td>\n",
       "      <td>55.808724</td>\n",
       "    </tr>\n",
       "  </tbody>\n",
       "</table>\n",
       "<p>2 rows × 100 columns</p>\n",
       "</div>"
      ],
      "text/plain": [
       "          0          1         2          3          4          5         6   \\\n",
       "0  64.000000  85.000000  80.00000  91.000000  68.000000  54.000000  54.00000   \n",
       "1  70.687762  89.177016  60.64183  99.983114  52.698085  61.945367  38.60329   \n",
       "\n",
       "          7          8          9   ...         90         91         92  \\\n",
       "0  65.000000  52.000000  79.000000  ...  76.000000  78.000000  71.000000   \n",
       "1  78.900681  32.526111  69.281004  ...  75.550546  67.245816  47.684557   \n",
       "\n",
       "          93         94         95         96         97         98         99  \n",
       "0  73.000000  73.000000  95.000000  64.000000  53.000000  48.000000  64.000000  \n",
       "1  60.085086  61.762543  87.644173  55.029727  42.048392  55.631782  55.808724  \n",
       "\n",
       "[2 rows x 100 columns]"
      ]
     },
     "execution_count": 92,
     "metadata": {},
     "output_type": "execute_result"
    }
   ],
   "source": [
    "pd.DataFrame((y_test,y_pred))"
   ]
  },
  {
   "cell_type": "code",
   "execution_count": 93,
   "id": "8361508f",
   "metadata": {},
   "outputs": [],
   "source": [
    "result = pd.DataFrame(index=X_test.index)"
   ]
  },
  {
   "cell_type": "code",
   "execution_count": 95,
   "id": "d0aceac9",
   "metadata": {},
   "outputs": [],
   "source": [
    "result[\"Actual\"]=y_test\n",
    "result[\"Predict\"] = y_pred"
   ]
  },
  {
   "cell_type": "code",
   "execution_count": 96,
   "id": "b21ff5fa",
   "metadata": {},
   "outputs": [
    {
     "data": {
      "text/html": [
       "<div>\n",
       "<style scoped>\n",
       "    .dataframe tbody tr th:only-of-type {\n",
       "        vertical-align: middle;\n",
       "    }\n",
       "\n",
       "    .dataframe tbody tr th {\n",
       "        vertical-align: top;\n",
       "    }\n",
       "\n",
       "    .dataframe thead th {\n",
       "        text-align: right;\n",
       "    }\n",
       "</style>\n",
       "<table border=\"1\" class=\"dataframe\">\n",
       "  <thead>\n",
       "    <tr style=\"text-align: right;\">\n",
       "      <th></th>\n",
       "      <th>Actual</th>\n",
       "      <th>Predict</th>\n",
       "    </tr>\n",
       "  </thead>\n",
       "  <tbody>\n",
       "    <tr>\n",
       "      <th>90</th>\n",
       "      <td>64.0</td>\n",
       "      <td>70.687762</td>\n",
       "    </tr>\n",
       "    <tr>\n",
       "      <th>254</th>\n",
       "      <td>85.0</td>\n",
       "      <td>89.177016</td>\n",
       "    </tr>\n",
       "    <tr>\n",
       "      <th>283</th>\n",
       "      <td>80.0</td>\n",
       "      <td>60.641830</td>\n",
       "    </tr>\n",
       "    <tr>\n",
       "      <th>445</th>\n",
       "      <td>91.0</td>\n",
       "      <td>99.983114</td>\n",
       "    </tr>\n",
       "    <tr>\n",
       "      <th>461</th>\n",
       "      <td>68.0</td>\n",
       "      <td>52.698085</td>\n",
       "    </tr>\n",
       "    <tr>\n",
       "      <th>...</th>\n",
       "      <td>...</td>\n",
       "      <td>...</td>\n",
       "    </tr>\n",
       "    <tr>\n",
       "      <th>372</th>\n",
       "      <td>95.0</td>\n",
       "      <td>87.644173</td>\n",
       "    </tr>\n",
       "    <tr>\n",
       "      <th>56</th>\n",
       "      <td>64.0</td>\n",
       "      <td>55.029727</td>\n",
       "    </tr>\n",
       "    <tr>\n",
       "      <th>440</th>\n",
       "      <td>53.0</td>\n",
       "      <td>42.048392</td>\n",
       "    </tr>\n",
       "    <tr>\n",
       "      <th>60</th>\n",
       "      <td>48.0</td>\n",
       "      <td>55.631782</td>\n",
       "    </tr>\n",
       "    <tr>\n",
       "      <th>208</th>\n",
       "      <td>64.0</td>\n",
       "      <td>55.808724</td>\n",
       "    </tr>\n",
       "  </tbody>\n",
       "</table>\n",
       "<p>100 rows × 2 columns</p>\n",
       "</div>"
      ],
      "text/plain": [
       "     Actual    Predict\n",
       "90     64.0  70.687762\n",
       "254    85.0  89.177016\n",
       "283    80.0  60.641830\n",
       "445    91.0  99.983114\n",
       "461    68.0  52.698085\n",
       "..      ...        ...\n",
       "372    95.0  87.644173\n",
       "56     64.0  55.029727\n",
       "440    53.0  42.048392\n",
       "60     48.0  55.631782\n",
       "208    64.0  55.808724\n",
       "\n",
       "[100 rows x 2 columns]"
      ]
     },
     "execution_count": 96,
     "metadata": {},
     "output_type": "execute_result"
    }
   ],
   "source": [
    "result"
   ]
  },
  {
   "cell_type": "code",
   "execution_count": 97,
   "id": "5f190e2d",
   "metadata": {},
   "outputs": [
    {
     "name": "stdout",
     "output_type": "stream",
     "text": [
      "r2_score: 0.12416154847456573\n"
     ]
    }
   ],
   "source": [
    "from sklearn.metrics import r2_score\n",
    "print(f\"r2_score: {r2_score(y_test,y_pred)}\")"
   ]
  },
  {
   "cell_type": "code",
   "execution_count": 98,
   "id": "7d9175ab",
   "metadata": {},
   "outputs": [
    {
     "name": "stdout",
     "output_type": "stream",
     "text": [
      "r2 score: 0.12416154847456573\n",
      "MSE: 152.96299596278828\n",
      "MAE: 10.54456288108087\n",
      "EVS: 0.23938076039107625\n"
     ]
    }
   ],
   "source": [
    "from sklearn.metrics import mean_squared_error, mean_absolute_error,explained_variance_score\n",
    "print(f\"r2 score: {r2_score(y_test,y_pred)}\")\n",
    "print(f\"MSE: {mean_squared_error(y_test,y_pred)}\")\n",
    "print(f\"MAE: {mean_absolute_error(y_test,y_pred)}\")\n",
    "print(f\"EVS: {explained_variance_score(y_test,y_pred)}\")"
   ]
  },
  {
   "cell_type": "code",
   "execution_count": 99,
   "id": "aefb948c",
   "metadata": {},
   "outputs": [],
   "source": [
    "# EVS is r2_score"
   ]
  },
  {
   "cell_type": "code",
   "execution_count": null,
   "id": "25e2dc84",
   "metadata": {},
   "outputs": [],
   "source": []
  }
 ],
 "metadata": {
  "kernelspec": {
   "display_name": "venv_311",
   "language": "python",
   "name": "venv_311"
  },
  "language_info": {
   "codemirror_mode": {
    "name": "ipython",
    "version": 3
   },
   "file_extension": ".py",
   "mimetype": "text/x-python",
   "name": "python",
   "nbconvert_exporter": "python",
   "pygments_lexer": "ipython3",
   "version": "3.11.5"
  }
 },
 "nbformat": 4,
 "nbformat_minor": 5
}
