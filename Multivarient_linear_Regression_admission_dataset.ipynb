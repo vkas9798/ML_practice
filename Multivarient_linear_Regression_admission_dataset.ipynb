{
 "cells": [
  {
   "cell_type": "code",
   "execution_count": 43,
   "id": "f88fe773",
   "metadata": {},
   "outputs": [],
   "source": [
    "import pandas as pd\n",
    "import numpy as np\n",
    "import matplotlib.pyplot as plt\n",
    "import seaborn as sns\n",
    "\n",
    "from sklearn.model_selection import train_test_split\n",
    "from sklearn.linear_model import LinearRegression\n",
    "from sklearn.preprocessing import StandardScaler\n",
    "\n",
    "from time import process_time"
   ]
  },
  {
   "cell_type": "markdown",
   "id": "72c734aa",
   "metadata": {},
   "source": [
    "For multivariate linear regression our hypothesis is\n",
    "y_hat = theta_0+ x1*theta_1+ x2*theta2+....."
   ]
  },
  {
   "cell_type": "code",
   "execution_count": 44,
   "id": "659caca7",
   "metadata": {},
   "outputs": [],
   "source": [
    "# Hpothesis for prediction\n",
    "def h(x, theta):\n",
    "    return np.dot(x,theta)"
   ]
  },
  {
   "cell_type": "code",
   "execution_count": 45,
   "id": "e22479d8",
   "metadata": {},
   "outputs": [],
   "source": [
    "# Cost Funnction\n",
    "def J(X,y,theta):\n",
    "    m = len(X)\n",
    "    c = 1/(2*m)\n",
    "    # Calculate the array of errors\n",
    "    temp_0 = h(X,theta)-y.reshape(-1)\n",
    "    temp_1 = temp_0.transpose()\n",
    "    temp_2 = np.dot(temp_0,temp_1)\n",
    "    return c*temp_2"
   ]
  },
  {
   "cell_type": "code",
   "execution_count": 46,
   "id": "d0307e3f",
   "metadata": {},
   "outputs": [],
   "source": [
    "# Gradient descent function\n",
    "def gradient(X,y,theta, alpha):\n",
    "    m = len(X)\n",
    "    c = alpha/m\n",
    "    temp_0 = X.transpose()\n",
    "    temp_1 = h(X,theta)-y.reshape(-1)\n",
    "    temp_2 = np.dot(temp_0, temp_1)\n",
    "    return theta - (c*temp_2)"
   ]
  },
  {
   "cell_type": "markdown",
   "id": "43f986dd",
   "metadata": {},
   "source": [
    "feature scaling\n",
    "- Standardization\n",
    "- mean Normalization\n",
    "- Min-Max Scaling"
   ]
  },
  {
   "cell_type": "code",
   "execution_count": 47,
   "id": "91f9ebd3",
   "metadata": {},
   "outputs": [],
   "source": [
    "# Min-Max Scaling\n",
    "def normalise(X,columns):\n",
    "    for column in columns:\n",
    "        X[column] = (X[column]-X[column].min())/(X[column].max()-X[column].min())\n",
    "    return X"
   ]
  },
  {
   "cell_type": "markdown",
   "id": "4091187d",
   "metadata": {},
   "source": [
    "### Lets Start"
   ]
  },
  {
   "cell_type": "code",
   "execution_count": 48,
   "id": "ce8d99fa",
   "metadata": {},
   "outputs": [],
   "source": [
    "# loading the data\n",
    "df = pd.read_csv(\"Admission_Predict_Ver1.1.csv\")"
   ]
  },
  {
   "cell_type": "code",
   "execution_count": 49,
   "id": "36da13d3",
   "metadata": {},
   "outputs": [
    {
     "data": {
      "text/html": [
       "<div>\n",
       "<style scoped>\n",
       "    .dataframe tbody tr th:only-of-type {\n",
       "        vertical-align: middle;\n",
       "    }\n",
       "\n",
       "    .dataframe tbody tr th {\n",
       "        vertical-align: top;\n",
       "    }\n",
       "\n",
       "    .dataframe thead th {\n",
       "        text-align: right;\n",
       "    }\n",
       "</style>\n",
       "<table border=\"1\" class=\"dataframe\">\n",
       "  <thead>\n",
       "    <tr style=\"text-align: right;\">\n",
       "      <th></th>\n",
       "      <th>Serial No.</th>\n",
       "      <th>GRE Score</th>\n",
       "      <th>TOEFL Score</th>\n",
       "      <th>University Rating</th>\n",
       "      <th>SOP</th>\n",
       "      <th>LOR</th>\n",
       "      <th>CGPA</th>\n",
       "      <th>Research</th>\n",
       "      <th>Chance of Admit</th>\n",
       "    </tr>\n",
       "  </thead>\n",
       "  <tbody>\n",
       "    <tr>\n",
       "      <th>388</th>\n",
       "      <td>389</td>\n",
       "      <td>296</td>\n",
       "      <td>97</td>\n",
       "      <td>2</td>\n",
       "      <td>1.5</td>\n",
       "      <td>2.0</td>\n",
       "      <td>7.80</td>\n",
       "      <td>0</td>\n",
       "      <td>0.49</td>\n",
       "    </tr>\n",
       "    <tr>\n",
       "      <th>460</th>\n",
       "      <td>461</td>\n",
       "      <td>319</td>\n",
       "      <td>105</td>\n",
       "      <td>4</td>\n",
       "      <td>4.0</td>\n",
       "      <td>4.5</td>\n",
       "      <td>8.66</td>\n",
       "      <td>1</td>\n",
       "      <td>0.77</td>\n",
       "    </tr>\n",
       "    <tr>\n",
       "      <th>424</th>\n",
       "      <td>425</td>\n",
       "      <td>325</td>\n",
       "      <td>114</td>\n",
       "      <td>5</td>\n",
       "      <td>4.0</td>\n",
       "      <td>5.0</td>\n",
       "      <td>9.46</td>\n",
       "      <td>1</td>\n",
       "      <td>0.91</td>\n",
       "    </tr>\n",
       "  </tbody>\n",
       "</table>\n",
       "</div>"
      ],
      "text/plain": [
       "     Serial No.  GRE Score  TOEFL Score  University Rating  SOP  LOR   CGPA  \\\n",
       "388         389        296           97                  2  1.5   2.0  7.80   \n",
       "460         461        319          105                  4  4.0   4.5  8.66   \n",
       "424         425        325          114                  5  4.0   5.0  9.46   \n",
       "\n",
       "     Research  Chance of Admit   \n",
       "388         0              0.49  \n",
       "460         1              0.77  \n",
       "424         1              0.91  "
      ]
     },
     "execution_count": 49,
     "metadata": {},
     "output_type": "execute_result"
    }
   ],
   "source": [
    "df.sample(3)"
   ]
  },
  {
   "cell_type": "code",
   "execution_count": 50,
   "id": "5dafa88b",
   "metadata": {},
   "outputs": [
    {
     "data": {
      "text/plain": [
       "Index(['Serial No.', 'GRE Score', 'TOEFL Score', 'University Rating', 'SOP',\n",
       "       'LOR ', 'CGPA', 'Research', 'Chance of Admit '],\n",
       "      dtype='object')"
      ]
     },
     "execution_count": 50,
     "metadata": {},
     "output_type": "execute_result"
    }
   ],
   "source": [
    "df.columns"
   ]
  },
  {
   "cell_type": "markdown",
   "id": "5db0011f",
   "metadata": {},
   "source": [
    "There is no need of serial no and chance of admission in my feature"
   ]
  },
  {
   "cell_type": "code",
   "execution_count": 51,
   "id": "da96a7e5",
   "metadata": {},
   "outputs": [],
   "source": [
    "X = df.drop(['Chance of Admit ','Serial No.'], axis=1)\n",
    "y = pd.DataFrame(data = df['Chance of Admit ']).to_numpy()"
   ]
  },
  {
   "cell_type": "code",
   "execution_count": 52,
   "id": "6fcf44a5",
   "metadata": {},
   "outputs": [
    {
     "data": {
      "text/plain": [
       "Index(['GRE Score', 'TOEFL Score', 'University Rating', 'SOP', 'LOR ', 'CGPA',\n",
       "       'Research'],\n",
       "      dtype='object')"
      ]
     },
     "execution_count": 52,
     "metadata": {},
     "output_type": "execute_result"
    }
   ],
   "source": [
    "X.columns"
   ]
  },
  {
   "cell_type": "code",
   "execution_count": 53,
   "id": "0af7d3e4",
   "metadata": {},
   "outputs": [
    {
     "data": {
      "text/html": [
       "<div>\n",
       "<style scoped>\n",
       "    .dataframe tbody tr th:only-of-type {\n",
       "        vertical-align: middle;\n",
       "    }\n",
       "\n",
       "    .dataframe tbody tr th {\n",
       "        vertical-align: top;\n",
       "    }\n",
       "\n",
       "    .dataframe thead th {\n",
       "        text-align: right;\n",
       "    }\n",
       "</style>\n",
       "<table border=\"1\" class=\"dataframe\">\n",
       "  <thead>\n",
       "    <tr style=\"text-align: right;\">\n",
       "      <th></th>\n",
       "      <th>GRE Score</th>\n",
       "      <th>TOEFL Score</th>\n",
       "      <th>University Rating</th>\n",
       "      <th>SOP</th>\n",
       "      <th>LOR</th>\n",
       "      <th>CGPA</th>\n",
       "      <th>Research</th>\n",
       "    </tr>\n",
       "  </thead>\n",
       "  <tbody>\n",
       "    <tr>\n",
       "      <th>28</th>\n",
       "      <td>295</td>\n",
       "      <td>93</td>\n",
       "      <td>1</td>\n",
       "      <td>2.0</td>\n",
       "      <td>2.0</td>\n",
       "      <td>7.20</td>\n",
       "      <td>0</td>\n",
       "    </tr>\n",
       "    <tr>\n",
       "      <th>83</th>\n",
       "      <td>322</td>\n",
       "      <td>115</td>\n",
       "      <td>5</td>\n",
       "      <td>4.0</td>\n",
       "      <td>4.5</td>\n",
       "      <td>9.36</td>\n",
       "      <td>1</td>\n",
       "    </tr>\n",
       "    <tr>\n",
       "      <th>67</th>\n",
       "      <td>316</td>\n",
       "      <td>107</td>\n",
       "      <td>2</td>\n",
       "      <td>3.5</td>\n",
       "      <td>3.5</td>\n",
       "      <td>8.64</td>\n",
       "      <td>1</td>\n",
       "    </tr>\n",
       "  </tbody>\n",
       "</table>\n",
       "</div>"
      ],
      "text/plain": [
       "    GRE Score  TOEFL Score  University Rating  SOP  LOR   CGPA  Research\n",
       "28        295           93                  1  2.0   2.0  7.20         0\n",
       "83        322          115                  5  4.0   4.5  9.36         1\n",
       "67        316          107                  2  3.5   3.5  8.64         1"
      ]
     },
     "execution_count": 53,
     "metadata": {},
     "output_type": "execute_result"
    }
   ],
   "source": [
    "X.sample(3)"
   ]
  },
  {
   "cell_type": "code",
   "execution_count": 54,
   "id": "5f5a4735",
   "metadata": {},
   "outputs": [],
   "source": [
    "# Select columns to be scaled\n",
    "columns = ['GRE Score', 'TOEFL Score', 'CGPA']\n",
    "# Min-max scaling\n",
    "X = normalise(X,columns)\n",
    "y = y*100"
   ]
  },
  {
   "cell_type": "code",
   "execution_count": 55,
   "id": "59801884",
   "metadata": {},
   "outputs": [
    {
     "data": {
      "text/html": [
       "<div>\n",
       "<style scoped>\n",
       "    .dataframe tbody tr th:only-of-type {\n",
       "        vertical-align: middle;\n",
       "    }\n",
       "\n",
       "    .dataframe tbody tr th {\n",
       "        vertical-align: top;\n",
       "    }\n",
       "\n",
       "    .dataframe thead th {\n",
       "        text-align: right;\n",
       "    }\n",
       "</style>\n",
       "<table border=\"1\" class=\"dataframe\">\n",
       "  <thead>\n",
       "    <tr style=\"text-align: right;\">\n",
       "      <th></th>\n",
       "      <th>GRE Score</th>\n",
       "      <th>TOEFL Score</th>\n",
       "      <th>University Rating</th>\n",
       "      <th>SOP</th>\n",
       "      <th>LOR</th>\n",
       "      <th>CGPA</th>\n",
       "      <th>Research</th>\n",
       "    </tr>\n",
       "  </thead>\n",
       "  <tbody>\n",
       "    <tr>\n",
       "      <th>172</th>\n",
       "      <td>0.64</td>\n",
       "      <td>0.642857</td>\n",
       "      <td>4</td>\n",
       "      <td>4.0</td>\n",
       "      <td>5.0</td>\n",
       "      <td>0.746795</td>\n",
       "      <td>1</td>\n",
       "    </tr>\n",
       "    <tr>\n",
       "      <th>275</th>\n",
       "      <td>0.64</td>\n",
       "      <td>0.642857</td>\n",
       "      <td>3</td>\n",
       "      <td>3.5</td>\n",
       "      <td>3.0</td>\n",
       "      <td>0.692308</td>\n",
       "      <td>1</td>\n",
       "    </tr>\n",
       "    <tr>\n",
       "      <th>460</th>\n",
       "      <td>0.58</td>\n",
       "      <td>0.464286</td>\n",
       "      <td>4</td>\n",
       "      <td>4.0</td>\n",
       "      <td>4.5</td>\n",
       "      <td>0.596154</td>\n",
       "      <td>1</td>\n",
       "    </tr>\n",
       "  </tbody>\n",
       "</table>\n",
       "</div>"
      ],
      "text/plain": [
       "     GRE Score  TOEFL Score  University Rating  SOP  LOR       CGPA  Research\n",
       "172       0.64     0.642857                  4  4.0   5.0  0.746795         1\n",
       "275       0.64     0.642857                  3  3.5   3.0  0.692308         1\n",
       "460       0.58     0.464286                  4  4.0   4.5  0.596154         1"
      ]
     },
     "execution_count": 55,
     "metadata": {},
     "output_type": "execute_result"
    }
   ],
   "source": [
    "# train, test split\n",
    "X_train,X_test,y_train,y_test = train_test_split(X,y,test_size=0.2,random_state=0)\n",
    "X_train.sample(3)"
   ]
  },
  {
   "cell_type": "code",
   "execution_count": 56,
   "id": "f6d7dfec",
   "metadata": {},
   "outputs": [],
   "source": [
    "### Model training\n",
    "start = process_time()\n",
    "\n",
    "m_train=len(X_train)\n",
    "m_test = len(X_test)\n",
    "n = len(X_train.axes[1])+1\n",
    "ones_train=[1]*m_train\n",
    "ones_test = [1]*m_test"
   ]
  },
  {
   "cell_type": "code",
   "execution_count": 57,
   "id": "f3c74efc",
   "metadata": {},
   "outputs": [
    {
     "data": {
      "text/html": [
       "<div>\n",
       "<style scoped>\n",
       "    .dataframe tbody tr th:only-of-type {\n",
       "        vertical-align: middle;\n",
       "    }\n",
       "\n",
       "    .dataframe tbody tr th {\n",
       "        vertical-align: top;\n",
       "    }\n",
       "\n",
       "    .dataframe thead th {\n",
       "        text-align: right;\n",
       "    }\n",
       "</style>\n",
       "<table border=\"1\" class=\"dataframe\">\n",
       "  <thead>\n",
       "    <tr style=\"text-align: right;\">\n",
       "      <th></th>\n",
       "      <th>GRE Score</th>\n",
       "      <th>TOEFL Score</th>\n",
       "      <th>University Rating</th>\n",
       "      <th>SOP</th>\n",
       "      <th>LOR</th>\n",
       "      <th>CGPA</th>\n",
       "      <th>Research</th>\n",
       "    </tr>\n",
       "  </thead>\n",
       "  <tbody>\n",
       "    <tr>\n",
       "      <th>0</th>\n",
       "      <td>0.94</td>\n",
       "      <td>0.928571</td>\n",
       "      <td>4</td>\n",
       "      <td>4.5</td>\n",
       "      <td>4.5</td>\n",
       "      <td>0.913462</td>\n",
       "      <td>1</td>\n",
       "    </tr>\n",
       "    <tr>\n",
       "      <th>293</th>\n",
       "      <td>0.44</td>\n",
       "      <td>0.214286</td>\n",
       "      <td>1</td>\n",
       "      <td>3.5</td>\n",
       "      <td>3.0</td>\n",
       "      <td>0.442308</td>\n",
       "      <td>1</td>\n",
       "    </tr>\n",
       "    <tr>\n",
       "      <th>38</th>\n",
       "      <td>0.28</td>\n",
       "      <td>0.464286</td>\n",
       "      <td>1</td>\n",
       "      <td>3.0</td>\n",
       "      <td>1.5</td>\n",
       "      <td>0.224359</td>\n",
       "      <td>0</td>\n",
       "    </tr>\n",
       "  </tbody>\n",
       "</table>\n",
       "</div>"
      ],
      "text/plain": [
       "     GRE Score  TOEFL Score  University Rating  SOP  LOR       CGPA  Research\n",
       "0         0.94     0.928571                  4  4.5   4.5  0.913462         1\n",
       "293       0.44     0.214286                  1  3.5   3.0  0.442308         1\n",
       "38        0.28     0.464286                  1  3.0   1.5  0.224359         0"
      ]
     },
     "execution_count": 57,
     "metadata": {},
     "output_type": "execute_result"
    }
   ],
   "source": [
    "X_train.sample(3)"
   ]
  },
  {
   "cell_type": "code",
   "execution_count": 58,
   "id": "cca15df5",
   "metadata": {},
   "outputs": [],
   "source": [
    "X_train.insert(0,\"X_0\", ones_train,True)"
   ]
  },
  {
   "cell_type": "code",
   "execution_count": 59,
   "id": "79725814",
   "metadata": {},
   "outputs": [
    {
     "data": {
      "text/html": [
       "<div>\n",
       "<style scoped>\n",
       "    .dataframe tbody tr th:only-of-type {\n",
       "        vertical-align: middle;\n",
       "    }\n",
       "\n",
       "    .dataframe tbody tr th {\n",
       "        vertical-align: top;\n",
       "    }\n",
       "\n",
       "    .dataframe thead th {\n",
       "        text-align: right;\n",
       "    }\n",
       "</style>\n",
       "<table border=\"1\" class=\"dataframe\">\n",
       "  <thead>\n",
       "    <tr style=\"text-align: right;\">\n",
       "      <th></th>\n",
       "      <th>X_0</th>\n",
       "      <th>GRE Score</th>\n",
       "      <th>TOEFL Score</th>\n",
       "      <th>University Rating</th>\n",
       "      <th>SOP</th>\n",
       "      <th>LOR</th>\n",
       "      <th>CGPA</th>\n",
       "      <th>Research</th>\n",
       "    </tr>\n",
       "  </thead>\n",
       "  <tbody>\n",
       "    <tr>\n",
       "      <th>391</th>\n",
       "      <td>1</td>\n",
       "      <td>0.56</td>\n",
       "      <td>0.500000</td>\n",
       "      <td>3</td>\n",
       "      <td>2.0</td>\n",
       "      <td>3.0</td>\n",
       "      <td>0.592949</td>\n",
       "      <td>0</td>\n",
       "    </tr>\n",
       "    <tr>\n",
       "      <th>99</th>\n",
       "      <td>1</td>\n",
       "      <td>0.66</td>\n",
       "      <td>0.750000</td>\n",
       "      <td>3</td>\n",
       "      <td>4.0</td>\n",
       "      <td>4.0</td>\n",
       "      <td>0.666667</td>\n",
       "      <td>1</td>\n",
       "    </tr>\n",
       "    <tr>\n",
       "      <th>0</th>\n",
       "      <td>1</td>\n",
       "      <td>0.94</td>\n",
       "      <td>0.928571</td>\n",
       "      <td>4</td>\n",
       "      <td>4.5</td>\n",
       "      <td>4.5</td>\n",
       "      <td>0.913462</td>\n",
       "      <td>1</td>\n",
       "    </tr>\n",
       "  </tbody>\n",
       "</table>\n",
       "</div>"
      ],
      "text/plain": [
       "     X_0  GRE Score  TOEFL Score  University Rating  SOP  LOR       CGPA  \\\n",
       "391    1       0.56     0.500000                  3  2.0   3.0  0.592949   \n",
       "99     1       0.66     0.750000                  3  4.0   4.0  0.666667   \n",
       "0      1       0.94     0.928571                  4  4.5   4.5  0.913462   \n",
       "\n",
       "     Research  \n",
       "391         0  \n",
       "99          1  \n",
       "0           1  "
      ]
     },
     "execution_count": 59,
     "metadata": {},
     "output_type": "execute_result"
    }
   ],
   "source": [
    "X_train.sample(3)"
   ]
  },
  {
   "cell_type": "code",
   "execution_count": 60,
   "id": "4efe80b8",
   "metadata": {},
   "outputs": [],
   "source": [
    "X_test.insert(0,\"X_0\",ones_test,True)"
   ]
  },
  {
   "cell_type": "code",
   "execution_count": 61,
   "id": "d3b1d034",
   "metadata": {},
   "outputs": [
    {
     "data": {
      "text/html": [
       "<div>\n",
       "<style scoped>\n",
       "    .dataframe tbody tr th:only-of-type {\n",
       "        vertical-align: middle;\n",
       "    }\n",
       "\n",
       "    .dataframe tbody tr th {\n",
       "        vertical-align: top;\n",
       "    }\n",
       "\n",
       "    .dataframe thead th {\n",
       "        text-align: right;\n",
       "    }\n",
       "</style>\n",
       "<table border=\"1\" class=\"dataframe\">\n",
       "  <thead>\n",
       "    <tr style=\"text-align: right;\">\n",
       "      <th></th>\n",
       "      <th>X_0</th>\n",
       "      <th>GRE Score</th>\n",
       "      <th>TOEFL Score</th>\n",
       "      <th>University Rating</th>\n",
       "      <th>SOP</th>\n",
       "      <th>LOR</th>\n",
       "      <th>CGPA</th>\n",
       "      <th>Research</th>\n",
       "    </tr>\n",
       "  </thead>\n",
       "  <tbody>\n",
       "    <tr>\n",
       "      <th>76</th>\n",
       "      <td>1</td>\n",
       "      <td>0.74</td>\n",
       "      <td>0.714286</td>\n",
       "      <td>3</td>\n",
       "      <td>3.0</td>\n",
       "      <td>3.0</td>\n",
       "      <td>0.615385</td>\n",
       "      <td>1</td>\n",
       "    </tr>\n",
       "    <tr>\n",
       "      <th>342</th>\n",
       "      <td>1</td>\n",
       "      <td>0.36</td>\n",
       "      <td>0.500000</td>\n",
       "      <td>3</td>\n",
       "      <td>3.0</td>\n",
       "      <td>3.0</td>\n",
       "      <td>0.461538</td>\n",
       "      <td>0</td>\n",
       "    </tr>\n",
       "    <tr>\n",
       "      <th>301</th>\n",
       "      <td>1</td>\n",
       "      <td>0.58</td>\n",
       "      <td>0.571429</td>\n",
       "      <td>2</td>\n",
       "      <td>2.5</td>\n",
       "      <td>3.0</td>\n",
       "      <td>0.628205</td>\n",
       "      <td>0</td>\n",
       "    </tr>\n",
       "  </tbody>\n",
       "</table>\n",
       "</div>"
      ],
      "text/plain": [
       "     X_0  GRE Score  TOEFL Score  University Rating  SOP  LOR       CGPA  \\\n",
       "76     1       0.74     0.714286                  3  3.0   3.0  0.615385   \n",
       "342    1       0.36     0.500000                  3  3.0   3.0  0.461538   \n",
       "301    1       0.58     0.571429                  2  2.5   3.0  0.628205   \n",
       "\n",
       "     Research  \n",
       "76          1  \n",
       "342         0  \n",
       "301         0  "
      ]
     },
     "execution_count": 61,
     "metadata": {},
     "output_type": "execute_result"
    }
   ],
   "source": [
    "X_test.sample(3)"
   ]
  },
  {
   "cell_type": "code",
   "execution_count": 62,
   "id": "1211548f",
   "metadata": {},
   "outputs": [],
   "source": [
    "# Initialization of theta with 0 value\n",
    "zero_list = [0]*n"
   ]
  },
  {
   "cell_type": "code",
   "execution_count": 63,
   "id": "d03d7ab0",
   "metadata": {},
   "outputs": [
    {
     "data": {
      "text/plain": [
       "[0, 0, 0, 0, 0, 0, 0, 0]"
      ]
     },
     "execution_count": 63,
     "metadata": {},
     "output_type": "execute_result"
    }
   ],
   "source": [
    "zero_list"
   ]
  },
  {
   "cell_type": "code",
   "execution_count": 64,
   "id": "cfbe8f7e",
   "metadata": {},
   "outputs": [],
   "source": [
    "theta = np.asarray(zero_list)"
   ]
  },
  {
   "cell_type": "code",
   "execution_count": 65,
   "id": "959683c4",
   "metadata": {},
   "outputs": [
    {
     "data": {
      "text/plain": [
       "array([0, 0, 0, 0, 0, 0, 0, 0])"
      ]
     },
     "execution_count": 65,
     "metadata": {},
     "output_type": "execute_result"
    }
   ],
   "source": [
    "theta"
   ]
  },
  {
   "cell_type": "code",
   "execution_count": 66,
   "id": "2dddb312",
   "metadata": {},
   "outputs": [
    {
     "name": "stdout",
     "output_type": "stream",
     "text": [
      "initial Cost: 2741.2200000000003\n",
      "\n",
      "Iteration: 1\n",
      "Calculated cost: 1803.536465562745\n",
      "cost difference: 937.6835344372553\n",
      "\n",
      "Iteration: 2\n",
      "Calculated cost: 1194.666514354635\n",
      "cost difference: 608.86995120811\n",
      "\n",
      "Iteration: 3\n",
      "Calculated cost: 799.3013538757673\n",
      "cost difference: 395.36516047886767\n",
      "\n",
      "Iteration: 4\n",
      "Calculated cost: 542.5688457291143\n",
      "cost difference: 256.732508146653\n",
      "\n",
      "Iteration: 5\n",
      "Calculated cost: 375.8531212430477\n",
      "cost difference: 166.71572448606656\n",
      "\n",
      "Iteration: 6\n",
      "Calculated cost: 267.58699480825493\n",
      "cost difference: 108.2661264347928\n",
      "\n",
      "Iteration: 7\n",
      "Calculated cost: 197.27330703026547\n",
      "cost difference: 70.31368777798946\n",
      "\n",
      "Iteration: 8\n",
      "Calculated cost: 151.60287191715722\n",
      "cost difference: 45.670435113108255\n",
      "\n",
      "Iteration: 9\n",
      "Calculated cost: 121.93378796532261\n",
      "cost difference: 29.669083951834608\n",
      "\n",
      "Iteration: 10\n",
      "Calculated cost: 102.6547080814477\n",
      "cost difference: 19.279079883874914\n",
      "\n",
      "Iteration: 11\n",
      "Calculated cost: 90.12208037681452\n",
      "cost difference: 12.532627704633171\n",
      "\n",
      "Iteration: 12\n",
      "Calculated cost: 81.97007889780986\n",
      "cost difference: 8.152001479004667\n",
      "\n",
      "Iteration: 13\n",
      "Calculated cost: 76.66252884647793\n",
      "cost difference: 5.30755005133193\n",
      "\n",
      "Iteration: 14\n",
      "Calculated cost: 73.20196331315145\n",
      "cost difference: 3.4605655333264735\n",
      "\n",
      "Iteration: 15\n",
      "Calculated cost: 70.94070841511466\n",
      "cost difference: 2.261254898036796\n",
      "\n",
      "Iteration: 16\n",
      "Calculated cost: 69.4582173722225\n",
      "cost difference: 1.4824910428921498\n",
      "\n",
      "Iteration: 17\n",
      "Calculated cost: 68.4814212463933\n",
      "cost difference: 0.9767961258292104\n",
      "\n",
      "Iteration: 18\n",
      "Calculated cost: 67.83301119903673\n",
      "cost difference: 0.6484100473565633\n",
      "\n",
      "Iteration: 19\n",
      "Calculated cost: 67.39785720128711\n",
      "cost difference: 0.43515399774962304\n",
      "\n",
      "Iteration: 20\n",
      "Calculated cost: 67.10120307952614\n",
      "cost difference: 0.29665412176096595\n",
      "\n",
      "Iteration: 21\n",
      "Calculated cost: 66.89450815389439\n",
      "cost difference: 0.2066949256317514\n",
      "\n",
      "Iteration: 22\n",
      "Calculated cost: 66.74625395149593\n",
      "cost difference: 0.1482542023984621\n",
      "\n",
      "Iteration: 23\n",
      "Calculated cost: 66.63597483471816\n",
      "cost difference: 0.11027911677777524\n",
      "\n",
      "Iteration: 24\n",
      "Calculated cost: 66.55038197744864\n",
      "cost difference: 0.08559285726951771\n",
      "\n",
      "Execution time: 218.75 milliseconds\n",
      "\n",
      "Calculated\u001b[1m θ\u001b[0m: [2.03692557 1.13926025 1.14289218 6.02902784 6.60181418 6.82324225\n",
      " 1.20521232 1.25048269]\n"
     ]
    }
   ],
   "source": [
    "alpha = 0.005\n",
    "threshold = 0.1\n",
    "cost_diff = J(X_train, y_train, theta)\n",
    "print(\"initial Cost: {}\".format(cost_diff))\n",
    "my_iter = 0\n",
    "cost_dict={}\n",
    "my_key = \"I_\"+str(my_iter)\n",
    "cost_dict[my_key] = cost_diff\n",
    "\n",
    "while cost_diff>=threshold:\n",
    "    initial_cost = J(X_train,y_train, theta)\n",
    "    theta = gradient(X_train, y_train, theta, alpha)\n",
    "    new_cost = J(X_train, y_train, theta)\n",
    "    cost_diff = initial_cost -new_cost\n",
    "    my_key = \"I_\"+str(my_iter)\n",
    "    cost_dict[my_key] = new_cost\n",
    "    \n",
    "    my_iter +=1\n",
    "    \n",
    "    print()\n",
    "    print(\"Iteration: {}\".format(my_iter))\n",
    "    print(\"Calculated cost: {}\".format(new_cost))\n",
    "    print(\"cost difference: {}\".format(cost_diff))\n",
    "    \n",
    "# Calculate elapsed CPU time\n",
    "end = process_time()\n",
    "execution_time = (end - start)*1000\n",
    "\n",
    "# display theta and cpu execution time of training\n",
    "print(\"\\nExecution time: {} milliseconds\".format(execution_time))\n",
    "print(\"\\nCalculated\\033[1m θ\\033[0m: {}\".format(theta))"
   ]
  },
  {
   "cell_type": "code",
   "execution_count": 67,
   "id": "33d5f8c3",
   "metadata": {},
   "outputs": [
    {
     "data": {
      "text/plain": [
       "[<matplotlib.lines.Line2D at 0x135fa624bd0>]"
      ]
     },
     "execution_count": 67,
     "metadata": {},
     "output_type": "execute_result"
    },
    {
     "data": {
      "image/png": "[encoded data removed]",
      "text/plain": [
       "<Figure size 2000x1000 with 1 Axes>"
      ]
     },
     "metadata": {},
     "output_type": "display_data"
    }
   ],
   "source": [
    "# Plot Training Learning Curve\n",
    "Y1=[x for x in cost_dict.values()]\n",
    "\n",
    "X1=[x for x in cost_dict.keys()]\n",
    "\n",
    "fig = plt.figure(figsize=[20, 10])\n",
    "plt.xlabel('Iterations')\n",
    "plt.ylabel('J(θ)')\n",
    "plt.title('The Training Learning Curve')\n",
    "plt.plot(X1,Y1, color='tab:blue')"
   ]
  },
  {
   "cell_type": "code",
   "execution_count": 69,
   "id": "14434849",
   "metadata": {},
   "outputs": [
    {
     "name": "stdout",
     "output_type": "stream",
     "text": [
      "\n",
      " \u001b[1m θ\u001b[0m: [2.03692557 1.13926025 1.14289218 6.02902784 6.60181418 6.82324225\n",
      " 1.20521232 1.25048269]\n",
      "\n",
      "Cost of test data: 76.48149798139414\n"
     ]
    }
   ],
   "source": [
    "print(\"\\n \\033[1m θ\\033[0m: {}\\n\".format(theta))\n",
    "\n",
    "# calculate the cost value for the test set\n",
    "cost_test = J(X_test, y_test, theta)\n",
    "print(\"Cost of test data: {}\".format(cost_test))"
   ]
  },
  {
   "cell_type": "code",
   "execution_count": 71,
   "id": "220a9adc",
   "metadata": {},
   "outputs": [
    {
     "data": {
      "text/html": [
       "<div>\n",
       "<style scoped>\n",
       "    .dataframe tbody tr th:only-of-type {\n",
       "        vertical-align: middle;\n",
       "    }\n",
       "\n",
       "    .dataframe tbody tr th {\n",
       "        vertical-align: top;\n",
       "    }\n",
       "\n",
       "    .dataframe thead th {\n",
       "        text-align: right;\n",
       "    }\n",
       "</style>\n",
       "<table border=\"1\" class=\"dataframe\">\n",
       "  <thead>\n",
       "    <tr style=\"text-align: right;\">\n",
       "      <th></th>\n",
       "      <th>Actual CoA</th>\n",
       "      <th>Predicted CoA</th>\n",
       "    </tr>\n",
       "  </thead>\n",
       "  <tbody>\n",
       "    <tr>\n",
       "      <th>90</th>\n",
       "      <td>64.0</td>\n",
       "      <td>70.687762</td>\n",
       "    </tr>\n",
       "    <tr>\n",
       "      <th>254</th>\n",
       "      <td>85.0</td>\n",
       "      <td>89.177016</td>\n",
       "    </tr>\n",
       "    <tr>\n",
       "      <th>283</th>\n",
       "      <td>80.0</td>\n",
       "      <td>60.641830</td>\n",
       "    </tr>\n",
       "    <tr>\n",
       "      <th>445</th>\n",
       "      <td>91.0</td>\n",
       "      <td>99.983114</td>\n",
       "    </tr>\n",
       "    <tr>\n",
       "      <th>461</th>\n",
       "      <td>68.0</td>\n",
       "      <td>52.698085</td>\n",
       "    </tr>\n",
       "  </tbody>\n",
       "</table>\n",
       "</div>"
      ],
      "text/plain": [
       "     Actual CoA  Predicted CoA\n",
       "90         64.0      70.687762\n",
       "254        85.0      89.177016\n",
       "283        80.0      60.641830\n",
       "445        91.0      99.983114\n",
       "461        68.0      52.698085"
      ]
     },
     "execution_count": 71,
     "metadata": {},
     "output_type": "execute_result"
    }
   ],
   "source": [
    "result = pd.DataFrame(index=X_test.index)\n",
    "result['Actual CoA'] = y_test\n",
    "result['Predicted CoA'] = h(X_test, theta)\n",
    "result.head()"
   ]
  },
  {
   "cell_type": "code",
   "execution_count": null,
   "id": "7ef3e791",
   "metadata": {},
   "outputs": [],
   "source": []
  }
 ],
 "metadata": {
  "kernelspec": {
   "display_name": "venv_311",
   "language": "python",
   "name": "venv_311"
  },
  "language_info": {
   "codemirror_mode": {
    "name": "ipython",
    "version": 3
   },
   "file_extension": ".py",
   "mimetype": "text/x-python",
   "name": "python",
   "nbconvert_exporter": "python",
   "pygments_lexer": "ipython3",
   "version": "3.11.5"
  }
 },
 "nbformat": 4,
 "nbformat_minor": 5
}
